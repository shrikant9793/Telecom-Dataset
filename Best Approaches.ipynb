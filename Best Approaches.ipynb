{
 "cells": [
  {
   "cell_type": "markdown",
   "metadata": {},
   "source": [
    "# New Programm"
   ]
  },
  {
   "cell_type": "markdown",
   "metadata": {},
   "source": [
    "Telecom Data Analysis"
   ]
  },
  {
   "cell_type": "code",
   "execution_count": 2,
   "metadata": {},
   "outputs": [
    {
     "name": "stderr",
     "output_type": "stream",
     "text": [
      "C:\\Users\\hp\\Documents\\Python Scripts\\lib\\site-packages\\statsmodels\\tools\\_testing.py:19: FutureWarning: pandas.util.testing is deprecated. Use the functions in the public API at pandas.testing instead.\n",
      "  import pandas.util.testing as tm\n"
     ]
    },
    {
     "data": {
      "text/plain": [
       "['6012_198179_compressed_weatherAUS.csv.zip',\n",
       " '8da.csv',\n",
       " 'Abc.xlsx',\n",
       " 'Abc1.xlsx',\n",
       " 'AB_NYC_2019.csv',\n",
       " 'Advartising.csv',\n",
       " 'Advertising.csv',\n",
       " 'All Files',\n",
       " 'anime.csv',\n",
       " 'anscombe.csv',\n",
       " 'attention.csv',\n",
       " 'BLI_15092020112244598.csv',\n",
       " 'Boston.csv',\n",
       " 'brain_networks.csv',\n",
       " 'breastCancer.csv',\n",
       " 'breastcancerdata.csv',\n",
       " 'car_crashes.csv',\n",
       " 'countries of the world.csv',\n",
       " 'Country.csv',\n",
       " 'CountryNotes.csv',\n",
       " 'Cricket testdataset1.csv',\n",
       " 'cricket traindataset.csv',\n",
       " 'Data-Science--Cheat-Sheet-master',\n",
       " 'datasets_105471_251283_data.csv',\n",
       " 'datasets_11167_15520_test.csv',\n",
       " 'datasets_11167_15520_train.csv',\n",
       " 'datasets_1489_2704_auto-mpg.csv',\n",
       " 'datasets_18009_23587_bill_authentication.csv',\n",
       " 'datasets_201575_443946_Cricket_chirps.csv',\n",
       " 'datasets_20710_26737_Bengaluru_House_Data.csv',\n",
       " 'datasets_2179_10093_Interview.csv',\n",
       " 'datasets_228_482_diabetes.csv',\n",
       " 'datasets_2374_3987_column_2C_weka.csv',\n",
       " 'datasets_2374_3987_column_3C_weka.csv',\n",
       " 'datasets_2619_4359_combats.csv',\n",
       " 'datasets_2619_4359_pokemon.csv',\n",
       " 'datasets_2619_4359_Pokmntests.csv',\n",
       " 'datasets_2647_4395_MedianHouseholdIncome2015.csv',\n",
       " 'datasets_2647_4395_PercentagePeopleBelowPovertyLevel.csv',\n",
       " 'datasets_2647_4395_PercentOver25CompletedHighSchool.csv',\n",
       " 'datasets_2647_4395_PoliceKillingsUS.csv',\n",
       " 'datasets_31481_40149_petrol_consumption.csv',\n",
       " 'datasets_33080_43333_car data.csv',\n",
       " 'datasets_33180_43520_heart.csv',\n",
       " 'datasets_383055_741735_CarPrice_Assignment.csv',\n",
       " 'datasets_383055_741735_Data Dictionary.xlsx',\n",
       " 'datasets_419514_801465_Participants Data_Data_Test.xlsx',\n",
       " 'datasets_419514_801465_Participants Data_Data_Train.xlsx',\n",
       " 'datasets_4458_8204_winequality-red.csv',\n",
       " 'datasets_4471_6849_bank.csv',\n",
       " 'datasets_535863_984605_Foreign_Exchange_Rates.csv',\n",
       " 'datasets_577170_1055509_russian_air_service_CARGO_AND_PARCELS.csv',\n",
       " 'datasets_579_1104_comptagesvelo2015.csv',\n",
       " 'datasets_596958_1073629_Placement_Data_Full_Class.csv',\n",
       " 'datasets_673_1282_beers.csv',\n",
       " 'datasets_673_1282_breweries.csv',\n",
       " 'datasets_694908_1216446_Test.csv',\n",
       " 'datasets_74977_169835_StudentsPerformance.csv',\n",
       " 'datasets_7721_10938_Mall_Customers.csv',\n",
       " 'datasets_79726_185469_Seed_Data.csv',\n",
       " 'datasets_833230_1423131_Social_Network_Ads.csv',\n",
       " 'datasets_836415_1428187_Country-data.csv',\n",
       " 'datasets_88705_204267_Real estate.csv',\n",
       " 'Day Wise Agenda',\n",
       " 'diamonds.csv',\n",
       " 'dots.csv',\n",
       " 'Earthqueke.csv',\n",
       " 'Ensurance.csv',\n",
       " 'exercise.csv',\n",
       " 'Exploration',\n",
       " 'EXTdata1.csv',\n",
       " 'EXTdata2.csv',\n",
       " 'flights.csv',\n",
       " 'fmri.csv',\n",
       " 'framingham_heart_disease.csv',\n",
       " 'fuelconsumption.csv',\n",
       " 'gammas.csv',\n",
       " 'heart.csv',\n",
       " 'hmda_lar.csv',\n",
       " 'Hyberman.csv',\n",
       " 'Hypothyroid.csv',\n",
       " 'insurance',\n",
       " 'insurance1.csv',\n",
       " 'InsuranceFraudDetection.csv',\n",
       " 'iris.csv',\n",
       " 'KC house data.csv',\n",
       " 'KNN_Project_Data.csv',\n",
       " 'Loan payments data.csv',\n",
       " 'loan_data.csv',\n",
       " 'Marketsales.csv',\n",
       " 'microchip.csv',\n",
       " 'mpg.csv',\n",
       " 'netflix.csv',\n",
       " 'netflix_titles.csv',\n",
       " 'NobelPrize.csv',\n",
       " 'NYC Open Data.csv',\n",
       " 'Online Retail.xlsx',\n",
       " 'planets.csv',\n",
       " 'PotatoPrice.csv',\n",
       " 'Python',\n",
       " 'rating.csv',\n",
       " 'README.md',\n",
       " 'Salary.csv',\n",
       " 'Sample - Superstore.xls',\n",
       " 'Sample_submission.xlsx',\n",
       " 'Search-Sample-Tweets-Trackmyhashtag',\n",
       " 'Series.csv',\n",
       " 'SeriesNotes.csv',\n",
       " 'ShareRaceByCity.csv',\n",
       " 'slr03.xls',\n",
       " 'Startups.csv',\n",
       " 'Stock Price.csv',\n",
       " 'Studentdata.csv',\n",
       " 'telecom_users.csv',\n",
       " 'Tennis.csv',\n",
       " 'test.csv',\n",
       " 'test.csv.zip',\n",
       " 'TestA.csv',\n",
       " 'testb.csv',\n",
       " 'tips.csv',\n",
       " 'titanic.csv',\n",
       " 'train.csv.zip',\n",
       " 'Train12.csv',\n",
       " 'train3.csv',\n",
       " 'TrainA.csv',\n",
       " 'trainb.csv',\n",
       " 'Unemployment Youth_API_ILO_country_YU.csv',\n",
       " 'USA Houseing.xlsx',\n",
       " 'Waether AUS.csv',\n",
       " 'Websites for Practice ML with Code.xlsx',\n",
       " 'Wholesalecustomersdata.csv',\n",
       " 'Wine.csv',\n",
       " 'winequality.csv',\n",
       " 'World Happiness Report']"
      ]
     },
     "execution_count": 2,
     "metadata": {},
     "output_type": "execute_result"
    }
   ],
   "source": [
    "import pandas as pd\n",
    "import numpy as np\n",
    "import matplotlib.pyplot as plt\n",
    "import seaborn as sns\n",
    "\n",
    "import os\n",
    "os.listdir(r\"C:\\Users\\hp\\Desktop\\New folder\\Python Object and Data Structure Basics\\csv file\\All Files\")"
   ]
  },
  {
   "cell_type": "code",
   "execution_count": 3,
   "metadata": {},
   "outputs": [
    {
     "data": {
      "text/html": [
       "<div>\n",
       "<style scoped>\n",
       "    .dataframe tbody tr th:only-of-type {\n",
       "        vertical-align: middle;\n",
       "    }\n",
       "\n",
       "    .dataframe tbody tr th {\n",
       "        vertical-align: top;\n",
       "    }\n",
       "\n",
       "    .dataframe thead th {\n",
       "        text-align: right;\n",
       "    }\n",
       "</style>\n",
       "<table border=\"1\" class=\"dataframe\">\n",
       "  <thead>\n",
       "    <tr style=\"text-align: right;\">\n",
       "      <th></th>\n",
       "      <th>Unnamed: 0</th>\n",
       "      <th>customerID</th>\n",
       "      <th>gender</th>\n",
       "      <th>SeniorCitizen</th>\n",
       "      <th>Partner</th>\n",
       "      <th>Dependents</th>\n",
       "      <th>tenure</th>\n",
       "      <th>PhoneService</th>\n",
       "      <th>MultipleLines</th>\n",
       "      <th>InternetService</th>\n",
       "      <th>...</th>\n",
       "      <th>DeviceProtection</th>\n",
       "      <th>TechSupport</th>\n",
       "      <th>StreamingTV</th>\n",
       "      <th>StreamingMovies</th>\n",
       "      <th>Contract</th>\n",
       "      <th>PaperlessBilling</th>\n",
       "      <th>PaymentMethod</th>\n",
       "      <th>MonthlyCharges</th>\n",
       "      <th>TotalCharges</th>\n",
       "      <th>Churn</th>\n",
       "    </tr>\n",
       "  </thead>\n",
       "  <tbody>\n",
       "    <tr>\n",
       "      <th>0</th>\n",
       "      <td>1869</td>\n",
       "      <td>7010-BRBUU</td>\n",
       "      <td>Male</td>\n",
       "      <td>0</td>\n",
       "      <td>Yes</td>\n",
       "      <td>Yes</td>\n",
       "      <td>72</td>\n",
       "      <td>Yes</td>\n",
       "      <td>Yes</td>\n",
       "      <td>No</td>\n",
       "      <td>...</td>\n",
       "      <td>No internet service</td>\n",
       "      <td>No internet service</td>\n",
       "      <td>No internet service</td>\n",
       "      <td>No internet service</td>\n",
       "      <td>Two year</td>\n",
       "      <td>No</td>\n",
       "      <td>Credit card (automatic)</td>\n",
       "      <td>24.10</td>\n",
       "      <td>1734.65</td>\n",
       "      <td>No</td>\n",
       "    </tr>\n",
       "    <tr>\n",
       "      <th>1</th>\n",
       "      <td>4528</td>\n",
       "      <td>9688-YGXVR</td>\n",
       "      <td>Female</td>\n",
       "      <td>0</td>\n",
       "      <td>No</td>\n",
       "      <td>No</td>\n",
       "      <td>44</td>\n",
       "      <td>Yes</td>\n",
       "      <td>No</td>\n",
       "      <td>Fiber optic</td>\n",
       "      <td>...</td>\n",
       "      <td>Yes</td>\n",
       "      <td>No</td>\n",
       "      <td>Yes</td>\n",
       "      <td>No</td>\n",
       "      <td>Month-to-month</td>\n",
       "      <td>Yes</td>\n",
       "      <td>Credit card (automatic)</td>\n",
       "      <td>88.15</td>\n",
       "      <td>3973.2</td>\n",
       "      <td>No</td>\n",
       "    </tr>\n",
       "    <tr>\n",
       "      <th>2</th>\n",
       "      <td>6344</td>\n",
       "      <td>9286-DOJGF</td>\n",
       "      <td>Female</td>\n",
       "      <td>1</td>\n",
       "      <td>Yes</td>\n",
       "      <td>No</td>\n",
       "      <td>38</td>\n",
       "      <td>Yes</td>\n",
       "      <td>Yes</td>\n",
       "      <td>Fiber optic</td>\n",
       "      <td>...</td>\n",
       "      <td>No</td>\n",
       "      <td>No</td>\n",
       "      <td>No</td>\n",
       "      <td>No</td>\n",
       "      <td>Month-to-month</td>\n",
       "      <td>Yes</td>\n",
       "      <td>Bank transfer (automatic)</td>\n",
       "      <td>74.95</td>\n",
       "      <td>2869.85</td>\n",
       "      <td>Yes</td>\n",
       "    </tr>\n",
       "    <tr>\n",
       "      <th>3</th>\n",
       "      <td>6739</td>\n",
       "      <td>6994-KERXL</td>\n",
       "      <td>Male</td>\n",
       "      <td>0</td>\n",
       "      <td>No</td>\n",
       "      <td>No</td>\n",
       "      <td>4</td>\n",
       "      <td>Yes</td>\n",
       "      <td>No</td>\n",
       "      <td>DSL</td>\n",
       "      <td>...</td>\n",
       "      <td>No</td>\n",
       "      <td>No</td>\n",
       "      <td>No</td>\n",
       "      <td>Yes</td>\n",
       "      <td>Month-to-month</td>\n",
       "      <td>Yes</td>\n",
       "      <td>Electronic check</td>\n",
       "      <td>55.90</td>\n",
       "      <td>238.5</td>\n",
       "      <td>No</td>\n",
       "    </tr>\n",
       "    <tr>\n",
       "      <th>4</th>\n",
       "      <td>432</td>\n",
       "      <td>2181-UAESM</td>\n",
       "      <td>Male</td>\n",
       "      <td>0</td>\n",
       "      <td>No</td>\n",
       "      <td>No</td>\n",
       "      <td>2</td>\n",
       "      <td>Yes</td>\n",
       "      <td>No</td>\n",
       "      <td>DSL</td>\n",
       "      <td>...</td>\n",
       "      <td>Yes</td>\n",
       "      <td>No</td>\n",
       "      <td>No</td>\n",
       "      <td>No</td>\n",
       "      <td>Month-to-month</td>\n",
       "      <td>No</td>\n",
       "      <td>Electronic check</td>\n",
       "      <td>53.45</td>\n",
       "      <td>119.5</td>\n",
       "      <td>No</td>\n",
       "    </tr>\n",
       "  </tbody>\n",
       "</table>\n",
       "<p>5 rows × 22 columns</p>\n",
       "</div>"
      ],
      "text/plain": [
       "   Unnamed: 0  customerID  gender  SeniorCitizen Partner Dependents  tenure  \\\n",
       "0        1869  7010-BRBUU    Male              0     Yes        Yes      72   \n",
       "1        4528  9688-YGXVR  Female              0      No         No      44   \n",
       "2        6344  9286-DOJGF  Female              1     Yes         No      38   \n",
       "3        6739  6994-KERXL    Male              0      No         No       4   \n",
       "4         432  2181-UAESM    Male              0      No         No       2   \n",
       "\n",
       "  PhoneService MultipleLines InternetService  ...     DeviceProtection  \\\n",
       "0          Yes           Yes              No  ...  No internet service   \n",
       "1          Yes            No     Fiber optic  ...                  Yes   \n",
       "2          Yes           Yes     Fiber optic  ...                   No   \n",
       "3          Yes            No             DSL  ...                   No   \n",
       "4          Yes            No             DSL  ...                  Yes   \n",
       "\n",
       "           TechSupport          StreamingTV      StreamingMovies  \\\n",
       "0  No internet service  No internet service  No internet service   \n",
       "1                   No                  Yes                   No   \n",
       "2                   No                   No                   No   \n",
       "3                   No                   No                  Yes   \n",
       "4                   No                   No                   No   \n",
       "\n",
       "         Contract PaperlessBilling              PaymentMethod MonthlyCharges  \\\n",
       "0        Two year               No    Credit card (automatic)          24.10   \n",
       "1  Month-to-month              Yes    Credit card (automatic)          88.15   \n",
       "2  Month-to-month              Yes  Bank transfer (automatic)          74.95   \n",
       "3  Month-to-month              Yes           Electronic check          55.90   \n",
       "4  Month-to-month               No           Electronic check          53.45   \n",
       "\n",
       "  TotalCharges  Churn  \n",
       "0      1734.65     No  \n",
       "1       3973.2     No  \n",
       "2      2869.85    Yes  \n",
       "3        238.5     No  \n",
       "4        119.5     No  \n",
       "\n",
       "[5 rows x 22 columns]"
      ]
     },
     "execution_count": 3,
     "metadata": {},
     "output_type": "execute_result"
    }
   ],
   "source": [
    "df = pd.read_csv(r\"C:\\Users\\hp\\Desktop\\New folder\\Python Object and Data Structure Basics\\csv file\\All Files\\telecom_users.csv\")\n",
    "df.head()"
   ]
  },
  {
   "cell_type": "code",
   "execution_count": 5,
   "metadata": {},
   "outputs": [
    {
     "data": {
      "text/plain": [
       "(5986, 22)"
      ]
     },
     "execution_count": 5,
     "metadata": {},
     "output_type": "execute_result"
    }
   ],
   "source": [
    "df.shape"
   ]
  },
  {
   "cell_type": "code",
   "execution_count": 6,
   "metadata": {},
   "outputs": [
    {
     "data": {
      "text/plain": [
       "Index(['Unnamed: 0', 'customerID', 'gender', 'SeniorCitizen', 'Partner',\n",
       "       'Dependents', 'tenure', 'PhoneService', 'MultipleLines',\n",
       "       'InternetService', 'OnlineSecurity', 'OnlineBackup', 'DeviceProtection',\n",
       "       'TechSupport', 'StreamingTV', 'StreamingMovies', 'Contract',\n",
       "       'PaperlessBilling', 'PaymentMethod', 'MonthlyCharges', 'TotalCharges',\n",
       "       'Churn'],\n",
       "      dtype='object')"
      ]
     },
     "execution_count": 6,
     "metadata": {},
     "output_type": "execute_result"
    }
   ],
   "source": [
    "df.columns"
   ]
  },
  {
   "cell_type": "code",
   "execution_count": 7,
   "metadata": {},
   "outputs": [
    {
     "name": "stdout",
     "output_type": "stream",
     "text": [
      "<class 'pandas.core.frame.DataFrame'>\n",
      "RangeIndex: 5986 entries, 0 to 5985\n",
      "Data columns (total 22 columns):\n",
      " #   Column            Non-Null Count  Dtype  \n",
      "---  ------            --------------  -----  \n",
      " 0   Unnamed: 0        5986 non-null   int64  \n",
      " 1   customerID        5986 non-null   object \n",
      " 2   gender            5986 non-null   object \n",
      " 3   SeniorCitizen     5986 non-null   int64  \n",
      " 4   Partner           5986 non-null   object \n",
      " 5   Dependents        5986 non-null   object \n",
      " 6   tenure            5986 non-null   int64  \n",
      " 7   PhoneService      5986 non-null   object \n",
      " 8   MultipleLines     5986 non-null   object \n",
      " 9   InternetService   5986 non-null   object \n",
      " 10  OnlineSecurity    5986 non-null   object \n",
      " 11  OnlineBackup      5986 non-null   object \n",
      " 12  DeviceProtection  5986 non-null   object \n",
      " 13  TechSupport       5986 non-null   object \n",
      " 14  StreamingTV       5986 non-null   object \n",
      " 15  StreamingMovies   5986 non-null   object \n",
      " 16  Contract          5986 non-null   object \n",
      " 17  PaperlessBilling  5986 non-null   object \n",
      " 18  PaymentMethod     5986 non-null   object \n",
      " 19  MonthlyCharges    5986 non-null   float64\n",
      " 20  TotalCharges      5986 non-null   object \n",
      " 21  Churn             5986 non-null   object \n",
      "dtypes: float64(1), int64(3), object(18)\n",
      "memory usage: 1.0+ MB\n"
     ]
    }
   ],
   "source": [
    "df.info()"
   ]
  },
  {
   "cell_type": "code",
   "execution_count": 10,
   "metadata": {},
   "outputs": [
    {
     "data": {
      "text/plain": [
       "array(['No internet service', 'No', 'Yes'], dtype=object)"
      ]
     },
     "execution_count": 10,
     "metadata": {},
     "output_type": "execute_result"
    }
   ],
   "source": [
    "df.OnlineSecurity.unique()"
   ]
  },
  {
   "cell_type": "code",
   "execution_count": 12,
   "metadata": {},
   "outputs": [],
   "source": [
    "df = df.drop(['Unnamed: 0', 'customerID'], axis= 1)\n",
    "df = df.replace('No', 0)\n",
    "df = df.replace('Yes', 1)\n",
    "df = df.replace('No internet service', 0)"
   ]
  },
  {
   "cell_type": "code",
   "execution_count": 13,
   "metadata": {},
   "outputs": [
    {
     "data": {
      "text/plain": [
       "Index(['gender', 'SeniorCitizen', 'Partner', 'Dependents', 'tenure',\n",
       "       'PhoneService', 'MultipleLines', 'InternetService', 'OnlineSecurity',\n",
       "       'OnlineBackup', 'DeviceProtection', 'TechSupport', 'StreamingTV',\n",
       "       'StreamingMovies', 'Contract', 'PaperlessBilling', 'PaymentMethod',\n",
       "       'MonthlyCharges', 'TotalCharges', 'Churn'],\n",
       "      dtype='object')"
      ]
     },
     "execution_count": 13,
     "metadata": {},
     "output_type": "execute_result"
    }
   ],
   "source": [
    "df.columns"
   ]
  },
  {
   "cell_type": "code",
   "execution_count": 14,
   "metadata": {},
   "outputs": [
    {
     "data": {
      "text/plain": [
       "(5986, 20)"
      ]
     },
     "execution_count": 14,
     "metadata": {},
     "output_type": "execute_result"
    }
   ],
   "source": [
    "df.shape"
   ]
  },
  {
   "cell_type": "code",
   "execution_count": 19,
   "metadata": {},
   "outputs": [
    {
     "data": {
      "text/plain": [
       "Fiber optic    2627\n",
       "DSL            2068\n",
       "0              1291\n",
       "Name: InternetService, dtype: int64"
      ]
     },
     "execution_count": 19,
     "metadata": {},
     "output_type": "execute_result"
    }
   ],
   "source": [
    "df['InternetService'].value_counts()"
   ]
  },
  {
   "cell_type": "code",
   "execution_count": 20,
   "metadata": {},
   "outputs": [
    {
     "data": {
      "text/plain": [
       "array([0, 'Fiber optic', 'DSL'], dtype=object)"
      ]
     },
     "execution_count": 20,
     "metadata": {},
     "output_type": "execute_result"
    }
   ],
   "source": [
    "df.InternetService.unique()"
   ]
  },
  {
   "cell_type": "code",
   "execution_count": 21,
   "metadata": {},
   "outputs": [],
   "source": [
    "df['InternetService'] = df['InternetService'].replace('Fiber optic', 2)\n",
    "df['InternetService'] = df['InternetService'].replace('DSL', 1)"
   ]
  },
  {
   "cell_type": "code",
   "execution_count": 22,
   "metadata": {},
   "outputs": [
    {
     "data": {
      "text/plain": [
       "array([0, 2, 1], dtype=int64)"
      ]
     },
     "execution_count": 22,
     "metadata": {},
     "output_type": "execute_result"
    }
   ],
   "source": [
    "df.InternetService.unique()"
   ]
  },
  {
   "cell_type": "code",
   "execution_count": 23,
   "metadata": {},
   "outputs": [
    {
     "data": {
      "text/plain": [
       "Month-to-month    3269\n",
       "Two year          1441\n",
       "One year          1276\n",
       "Name: Contract, dtype: int64"
      ]
     },
     "execution_count": 23,
     "metadata": {},
     "output_type": "execute_result"
    }
   ],
   "source": [
    "df['Contract'].value_counts()"
   ]
  },
  {
   "cell_type": "code",
   "execution_count": 24,
   "metadata": {},
   "outputs": [],
   "source": [
    "df['Contract'] = df['Contract'].replace('Two year', 24)\n",
    "df['Contract'] = df['Contract'].replace('One year', 12)\n",
    "df['Contract'] = df['Contract'].replace('Month-to-month', 1)"
   ]
  },
  {
   "cell_type": "code",
   "execution_count": 25,
   "metadata": {},
   "outputs": [
    {
     "data": {
      "text/plain": [
       "array([24,  1, 12], dtype=int64)"
      ]
     },
     "execution_count": 25,
     "metadata": {},
     "output_type": "execute_result"
    }
   ],
   "source": [
    "df.Contract.unique()"
   ]
  },
  {
   "cell_type": "code",
   "execution_count": 26,
   "metadata": {},
   "outputs": [
    {
     "data": {
      "text/plain": [
       "array(['Credit card (automatic)', 'Bank transfer (automatic)',\n",
       "       'Electronic check', 'Mailed check'], dtype=object)"
      ]
     },
     "execution_count": 26,
     "metadata": {},
     "output_type": "execute_result"
    }
   ],
   "source": [
    "df.PaymentMethod.unique()"
   ]
  },
  {
   "cell_type": "code",
   "execution_count": 27,
   "metadata": {},
   "outputs": [
    {
     "data": {
      "text/plain": [
       "Electronic check             2006\n",
       "Mailed check                 1369\n",
       "Bank transfer (automatic)    1308\n",
       "Credit card (automatic)      1303\n",
       "Name: PaymentMethod, dtype: int64"
      ]
     },
     "execution_count": 27,
     "metadata": {},
     "output_type": "execute_result"
    }
   ],
   "source": [
    "df.PaymentMethod.value_counts()"
   ]
  },
  {
   "cell_type": "code",
   "execution_count": 28,
   "metadata": {},
   "outputs": [
    {
     "data": {
      "text/plain": [
       "119720"
      ]
     },
     "execution_count": 28,
     "metadata": {},
     "output_type": "execute_result"
    }
   ],
   "source": [
    "df.size"
   ]
  },
  {
   "cell_type": "code",
   "execution_count": 29,
   "metadata": {},
   "outputs": [],
   "source": [
    "df['PaymentMethod'] = df['PaymentMethod'].replace('Electronic check', 1)\n",
    "df['PaymentMethod'] = df['PaymentMethod'].replace('Mailed check', 2)\n",
    "df['PaymentMethod'] = df['PaymentMethod'].replace('Bank transfer (automatic)', 3)\n",
    "df['PaymentMethod'] = df['PaymentMethod'].replace('Credit card (automatic)', 4)"
   ]
  },
  {
   "cell_type": "code",
   "execution_count": 31,
   "metadata": {},
   "outputs": [
    {
     "data": {
      "text/plain": [
       "array([4, 3, 1, 2], dtype=int64)"
      ]
     },
     "execution_count": 31,
     "metadata": {},
     "output_type": "execute_result"
    }
   ],
   "source": [
    "df['PaymentMethod'].unique()"
   ]
  },
  {
   "cell_type": "code",
   "execution_count": 32,
   "metadata": {},
   "outputs": [
    {
     "data": {
      "text/plain": [
       "array([4, 3, 1, 2], dtype=int64)"
      ]
     },
     "execution_count": 32,
     "metadata": {},
     "output_type": "execute_result"
    }
   ],
   "source": [
    "df.PaymentMethod.unique()"
   ]
  },
  {
   "cell_type": "code",
   "execution_count": 33,
   "metadata": {},
   "outputs": [
    {
     "data": {
      "text/plain": [
       "1    2006\n",
       "2    1369\n",
       "3    1308\n",
       "4    1303\n",
       "Name: PaymentMethod, dtype: int64"
      ]
     },
     "execution_count": 33,
     "metadata": {},
     "output_type": "execute_result"
    }
   ],
   "source": [
    "df['PaymentMethod'].value_counts()"
   ]
  },
  {
   "cell_type": "code",
   "execution_count": 35,
   "metadata": {},
   "outputs": [
    {
     "name": "stdout",
     "output_type": "stream",
     "text": [
      "Male      3050\n",
      "Female    2936\n",
      "Name: gender, dtype: int64\n",
      "['Male' 'Female']\n"
     ]
    }
   ],
   "source": [
    "print(df.gender.value_counts())\n",
    "print(df.gender.unique())"
   ]
  },
  {
   "cell_type": "code",
   "execution_count": 36,
   "metadata": {},
   "outputs": [],
   "source": [
    "df['gender'] = df['gender'].replace('Male', 1)\n",
    "df['gender'] = df['gender'].replace('Female', 0)"
   ]
  },
  {
   "cell_type": "code",
   "execution_count": 37,
   "metadata": {},
   "outputs": [
    {
     "data": {
      "text/plain": [
       "1    3050\n",
       "0    2936\n",
       "Name: gender, dtype: int64"
      ]
     },
     "execution_count": 37,
     "metadata": {},
     "output_type": "execute_result"
    }
   ],
   "source": [
    "df.gender.value_counts()"
   ]
  },
  {
   "cell_type": "code",
   "execution_count": 38,
   "metadata": {},
   "outputs": [
    {
     "data": {
      "text/plain": [
       "dtype('O')"
      ]
     },
     "execution_count": 38,
     "metadata": {},
     "output_type": "execute_result"
    }
   ],
   "source": [
    "df['MultipleLines'].dtypes"
   ]
  },
  {
   "cell_type": "code",
   "execution_count": 39,
   "metadata": {},
   "outputs": [
    {
     "name": "stdout",
     "output_type": "stream",
     "text": [
      "float64\n",
      "object\n"
     ]
    }
   ],
   "source": [
    "print(df['MonthlyCharges'].dtypes)\n",
    "print(df['TotalCharges'].dtypes)"
   ]
  },
  {
   "cell_type": "code",
   "execution_count": 41,
   "metadata": {},
   "outputs": [],
   "source": [
    "df['MultipleLines'] = df['MultipleLines'].replace('No phone service', 0)"
   ]
  },
  {
   "cell_type": "code",
   "execution_count": 42,
   "metadata": {},
   "outputs": [],
   "source": [
    "df['MultipleLines'] = df['MultipleLines'].astype(int)\n",
    "df['MonthlyCharges'] = df['MonthlyCharges'].astype(int)\n",
    "df['TotalCharges'] = df['TotalCharges'].astype(str)"
   ]
  },
  {
   "cell_type": "code",
   "execution_count": 53,
   "metadata": {},
   "outputs": [
    {
     "name": "stdout",
     "output_type": "stream",
     "text": [
      "['1734.65' '3973.2' '2869.85' ... '306.05' '1200.15' '457.3']\n",
      "           10\n",
      "20.2       10\n",
      "19.75       8\n",
      "19.55       7\n",
      "20.05       6\n",
      "           ..\n",
      "536.35      1\n",
      "837.95      1\n",
      "5034.05     1\n",
      "4732.35     1\n",
      "814.75      1\n",
      "Name: TotalCharges, Length: 5611, dtype: int64\n"
     ]
    }
   ],
   "source": [
    "print(df.TotalCharges.unique())\n",
    "print(df.TotalCharges.value_counts())"
   ]
  },
  {
   "cell_type": "code",
   "execution_count": 55,
   "metadata": {},
   "outputs": [],
   "source": [
    "df['TotalCharges'] = df['TotalCharges'].replace(' ', 0)\n",
    "df['TotalCharges'] = df['TotalCharges'].astype(float)\n",
    "total_charge = df['TotalCharges']"
   ]
  },
  {
   "cell_type": "code",
   "execution_count": 57,
   "metadata": {},
   "outputs": [
    {
     "name": "stderr",
     "output_type": "stream",
     "text": [
      "C:\\Users\\hp\\Documents\\Python Scripts\\lib\\site-packages\\ipykernel_launcher.py:2: SettingWithCopyWarning: \n",
      "A value is trying to be set on a copy of a slice from a DataFrame\n",
      "\n",
      "See the caveats in the documentation: https://pandas.pydata.org/pandas-docs/stable/user_guide/indexing.html#returning-a-view-versus-a-copy\n",
      "  \n"
     ]
    }
   ],
   "source": [
    "for i in range(0, len(df)-1):\n",
    "    total_charge[i] = int(total_charge[i])\n",
    "df['TotalCharges'] = df['TotalCharges'].astype(int)"
   ]
  },
  {
   "cell_type": "code",
   "execution_count": 58,
   "metadata": {},
   "outputs": [
    {
     "data": {
      "text/html": [
       "<div>\n",
       "<style scoped>\n",
       "    .dataframe tbody tr th:only-of-type {\n",
       "        vertical-align: middle;\n",
       "    }\n",
       "\n",
       "    .dataframe tbody tr th {\n",
       "        vertical-align: top;\n",
       "    }\n",
       "\n",
       "    .dataframe thead th {\n",
       "        text-align: right;\n",
       "    }\n",
       "</style>\n",
       "<table border=\"1\" class=\"dataframe\">\n",
       "  <thead>\n",
       "    <tr style=\"text-align: right;\">\n",
       "      <th></th>\n",
       "      <th>gender</th>\n",
       "      <th>SeniorCitizen</th>\n",
       "      <th>Partner</th>\n",
       "      <th>Dependents</th>\n",
       "      <th>tenure</th>\n",
       "      <th>PhoneService</th>\n",
       "      <th>MultipleLines</th>\n",
       "      <th>InternetService</th>\n",
       "      <th>OnlineSecurity</th>\n",
       "      <th>OnlineBackup</th>\n",
       "      <th>DeviceProtection</th>\n",
       "      <th>TechSupport</th>\n",
       "      <th>StreamingTV</th>\n",
       "      <th>StreamingMovies</th>\n",
       "      <th>Contract</th>\n",
       "      <th>PaperlessBilling</th>\n",
       "      <th>PaymentMethod</th>\n",
       "      <th>MonthlyCharges</th>\n",
       "      <th>TotalCharges</th>\n",
       "      <th>Churn</th>\n",
       "    </tr>\n",
       "  </thead>\n",
       "  <tbody>\n",
       "    <tr>\n",
       "      <th>0</th>\n",
       "      <td>1</td>\n",
       "      <td>0</td>\n",
       "      <td>1</td>\n",
       "      <td>1</td>\n",
       "      <td>72</td>\n",
       "      <td>1</td>\n",
       "      <td>1</td>\n",
       "      <td>0</td>\n",
       "      <td>0</td>\n",
       "      <td>0</td>\n",
       "      <td>0</td>\n",
       "      <td>0</td>\n",
       "      <td>0</td>\n",
       "      <td>0</td>\n",
       "      <td>24</td>\n",
       "      <td>0</td>\n",
       "      <td>4</td>\n",
       "      <td>24</td>\n",
       "      <td>1734</td>\n",
       "      <td>0</td>\n",
       "    </tr>\n",
       "    <tr>\n",
       "      <th>1</th>\n",
       "      <td>0</td>\n",
       "      <td>0</td>\n",
       "      <td>0</td>\n",
       "      <td>0</td>\n",
       "      <td>44</td>\n",
       "      <td>1</td>\n",
       "      <td>0</td>\n",
       "      <td>2</td>\n",
       "      <td>0</td>\n",
       "      <td>1</td>\n",
       "      <td>1</td>\n",
       "      <td>0</td>\n",
       "      <td>1</td>\n",
       "      <td>0</td>\n",
       "      <td>1</td>\n",
       "      <td>1</td>\n",
       "      <td>4</td>\n",
       "      <td>88</td>\n",
       "      <td>3973</td>\n",
       "      <td>0</td>\n",
       "    </tr>\n",
       "    <tr>\n",
       "      <th>2</th>\n",
       "      <td>0</td>\n",
       "      <td>1</td>\n",
       "      <td>1</td>\n",
       "      <td>0</td>\n",
       "      <td>38</td>\n",
       "      <td>1</td>\n",
       "      <td>1</td>\n",
       "      <td>2</td>\n",
       "      <td>0</td>\n",
       "      <td>0</td>\n",
       "      <td>0</td>\n",
       "      <td>0</td>\n",
       "      <td>0</td>\n",
       "      <td>0</td>\n",
       "      <td>1</td>\n",
       "      <td>1</td>\n",
       "      <td>3</td>\n",
       "      <td>74</td>\n",
       "      <td>2869</td>\n",
       "      <td>1</td>\n",
       "    </tr>\n",
       "    <tr>\n",
       "      <th>3</th>\n",
       "      <td>1</td>\n",
       "      <td>0</td>\n",
       "      <td>0</td>\n",
       "      <td>0</td>\n",
       "      <td>4</td>\n",
       "      <td>1</td>\n",
       "      <td>0</td>\n",
       "      <td>1</td>\n",
       "      <td>0</td>\n",
       "      <td>0</td>\n",
       "      <td>0</td>\n",
       "      <td>0</td>\n",
       "      <td>0</td>\n",
       "      <td>1</td>\n",
       "      <td>1</td>\n",
       "      <td>1</td>\n",
       "      <td>1</td>\n",
       "      <td>55</td>\n",
       "      <td>238</td>\n",
       "      <td>0</td>\n",
       "    </tr>\n",
       "    <tr>\n",
       "      <th>4</th>\n",
       "      <td>1</td>\n",
       "      <td>0</td>\n",
       "      <td>0</td>\n",
       "      <td>0</td>\n",
       "      <td>2</td>\n",
       "      <td>1</td>\n",
       "      <td>0</td>\n",
       "      <td>1</td>\n",
       "      <td>1</td>\n",
       "      <td>0</td>\n",
       "      <td>1</td>\n",
       "      <td>0</td>\n",
       "      <td>0</td>\n",
       "      <td>0</td>\n",
       "      <td>1</td>\n",
       "      <td>0</td>\n",
       "      <td>1</td>\n",
       "      <td>53</td>\n",
       "      <td>119</td>\n",
       "      <td>0</td>\n",
       "    </tr>\n",
       "  </tbody>\n",
       "</table>\n",
       "</div>"
      ],
      "text/plain": [
       "   gender  SeniorCitizen  Partner  Dependents  tenure  PhoneService  \\\n",
       "0       1              0        1           1      72             1   \n",
       "1       0              0        0           0      44             1   \n",
       "2       0              1        1           0      38             1   \n",
       "3       1              0        0           0       4             1   \n",
       "4       1              0        0           0       2             1   \n",
       "\n",
       "   MultipleLines  InternetService  OnlineSecurity  OnlineBackup  \\\n",
       "0              1                0               0             0   \n",
       "1              0                2               0             1   \n",
       "2              1                2               0             0   \n",
       "3              0                1               0             0   \n",
       "4              0                1               1             0   \n",
       "\n",
       "   DeviceProtection  TechSupport  StreamingTV  StreamingMovies  Contract  \\\n",
       "0                 0            0            0                0        24   \n",
       "1                 1            0            1                0         1   \n",
       "2                 0            0            0                0         1   \n",
       "3                 0            0            0                1         1   \n",
       "4                 1            0            0                0         1   \n",
       "\n",
       "   PaperlessBilling  PaymentMethod  MonthlyCharges  TotalCharges  Churn  \n",
       "0                 0              4              24          1734      0  \n",
       "1                 1              4              88          3973      0  \n",
       "2                 1              3              74          2869      1  \n",
       "3                 1              1              55           238      0  \n",
       "4                 0              1              53           119      0  "
      ]
     },
     "execution_count": 58,
     "metadata": {},
     "output_type": "execute_result"
    }
   ],
   "source": [
    "df.head()"
   ]
  },
  {
   "cell_type": "code",
   "execution_count": 59,
   "metadata": {},
   "outputs": [
    {
     "name": "stdout",
     "output_type": "stream",
     "text": [
      "<class 'pandas.core.frame.DataFrame'>\n",
      "RangeIndex: 5986 entries, 0 to 5985\n",
      "Data columns (total 20 columns):\n",
      " #   Column            Non-Null Count  Dtype\n",
      "---  ------            --------------  -----\n",
      " 0   gender            5986 non-null   int64\n",
      " 1   SeniorCitizen     5986 non-null   int64\n",
      " 2   Partner           5986 non-null   int64\n",
      " 3   Dependents        5986 non-null   int64\n",
      " 4   tenure            5986 non-null   int64\n",
      " 5   PhoneService      5986 non-null   int64\n",
      " 6   MultipleLines     5986 non-null   int32\n",
      " 7   InternetService   5986 non-null   int64\n",
      " 8   OnlineSecurity    5986 non-null   int64\n",
      " 9   OnlineBackup      5986 non-null   int64\n",
      " 10  DeviceProtection  5986 non-null   int64\n",
      " 11  TechSupport       5986 non-null   int64\n",
      " 12  StreamingTV       5986 non-null   int64\n",
      " 13  StreamingMovies   5986 non-null   int64\n",
      " 14  Contract          5986 non-null   int64\n",
      " 15  PaperlessBilling  5986 non-null   int64\n",
      " 16  PaymentMethod     5986 non-null   int64\n",
      " 17  MonthlyCharges    5986 non-null   int32\n",
      " 18  TotalCharges      5986 non-null   int32\n",
      " 19  Churn             5986 non-null   int64\n",
      "dtypes: int32(3), int64(17)\n",
      "memory usage: 865.3 KB\n"
     ]
    }
   ],
   "source": [
    "df.info()"
   ]
  },
  {
   "cell_type": "code",
   "execution_count": 60,
   "metadata": {},
   "outputs": [
    {
     "data": {
      "text/plain": [
       "<AxesSubplot:xlabel='Partner', ylabel='MonthlyCharges'>"
      ]
     },
     "execution_count": 60,
     "metadata": {},
     "output_type": "execute_result"
    },
    {
     "data": {
      "image/png": "[encoded data removed]",
      "text/plain": [
       "<Figure size 432x288 with 1 Axes>"
      ]
     },
     "metadata": {
      "needs_background": "light"
     },
     "output_type": "display_data"
    }
   ],
   "source": [
    "sns.barplot(x='Partner', y='MonthlyCharges', data=df)"
   ]
  },
  {
   "cell_type": "code",
   "execution_count": 61,
   "metadata": {},
   "outputs": [
    {
     "data": {
      "text/plain": [
       "Text(0, 0.5, 'Charge')"
      ]
     },
     "execution_count": 61,
     "metadata": {},
     "output_type": "execute_result"
    },
    {
     "data": {
      "image/png": "[encoded data removed]",
      "text/plain": [
       "<Figure size 432x288 with 1 Axes>"
      ]
     },
     "metadata": {
      "needs_background": "light"
     },
     "output_type": "display_data"
    }
   ],
   "source": [
    "sns.barplot(x='Contract', y='MonthlyCharges', data=df)\n",
    "plt.ylabel('Charge')"
   ]
  },
  {
   "cell_type": "code",
   "execution_count": 63,
   "metadata": {},
   "outputs": [
    {
     "data": {
      "text/plain": [
       "Text(0, 0.5, 'Non senior - Senior')"
      ]
     },
     "execution_count": 63,
     "metadata": {},
     "output_type": "execute_result"
    },
    {
     "data": {
      "image/png": "[encoded data removed]",
      "text/plain": [
       "<Figure size 432x288 with 1 Axes>"
      ]
     },
     "metadata": {
      "needs_background": "light"
     },
     "output_type": "display_data"
    }
   ],
   "source": [
    "sns.barplot(x='SeniorCitizen', y= 'MonthlyCharges', data=df)\n",
    "plt.ylabel('Non senior - Senior')"
   ]
  },
  {
   "cell_type": "code",
   "execution_count": 64,
   "metadata": {},
   "outputs": [
    {
     "data": {
      "text/plain": [
       "Text(0.5, 0, 'No Internet - DSL - Fiber optic')"
      ]
     },
     "execution_count": 64,
     "metadata": {},
     "output_type": "execute_result"
    },
    {
     "data": {
      "image/png": "[encoded data removed]",
      "text/plain": [
       "<Figure size 432x288 with 1 Axes>"
      ]
     },
     "metadata": {
      "needs_background": "light"
     },
     "output_type": "display_data"
    }
   ],
   "source": [
    "sns.barplot(x= 'InternetService', y = 'MonthlyCharges', data= df)\n",
    "plt.xlabel('No Internet - DSL - Fiber optic')"
   ]
  },
  {
   "cell_type": "code",
   "execution_count": 65,
   "metadata": {},
   "outputs": [],
   "source": [
    "corr = df.corr()"
   ]
  },
  {
   "cell_type": "code",
   "execution_count": 66,
   "metadata": {},
   "outputs": [
    {
     "data": {
      "text/html": [
       "<div>\n",
       "<style scoped>\n",
       "    .dataframe tbody tr th:only-of-type {\n",
       "        vertical-align: middle;\n",
       "    }\n",
       "\n",
       "    .dataframe tbody tr th {\n",
       "        vertical-align: top;\n",
       "    }\n",
       "\n",
       "    .dataframe thead th {\n",
       "        text-align: right;\n",
       "    }\n",
       "</style>\n",
       "<table border=\"1\" class=\"dataframe\">\n",
       "  <thead>\n",
       "    <tr style=\"text-align: right;\">\n",
       "      <th></th>\n",
       "      <th>gender</th>\n",
       "      <th>SeniorCitizen</th>\n",
       "      <th>Partner</th>\n",
       "      <th>Dependents</th>\n",
       "      <th>tenure</th>\n",
       "      <th>PhoneService</th>\n",
       "      <th>MultipleLines</th>\n",
       "      <th>InternetService</th>\n",
       "      <th>OnlineSecurity</th>\n",
       "      <th>OnlineBackup</th>\n",
       "      <th>DeviceProtection</th>\n",
       "      <th>TechSupport</th>\n",
       "      <th>StreamingTV</th>\n",
       "      <th>StreamingMovies</th>\n",
       "      <th>Contract</th>\n",
       "      <th>PaperlessBilling</th>\n",
       "      <th>PaymentMethod</th>\n",
       "      <th>MonthlyCharges</th>\n",
       "      <th>TotalCharges</th>\n",
       "      <th>Churn</th>\n",
       "    </tr>\n",
       "  </thead>\n",
       "  <tbody>\n",
       "    <tr>\n",
       "      <th>gender</th>\n",
       "      <td>1.000000</td>\n",
       "      <td>-0.007447</td>\n",
       "      <td>-0.007791</td>\n",
       "      <td>0.009083</td>\n",
       "      <td>0.003207</td>\n",
       "      <td>-0.004913</td>\n",
       "      <td>-0.000853</td>\n",
       "      <td>-0.009764</td>\n",
       "      <td>-0.022042</td>\n",
       "      <td>-0.018858</td>\n",
       "      <td>-0.004975</td>\n",
       "      <td>-0.010327</td>\n",
       "      <td>-0.009585</td>\n",
       "      <td>-0.008748</td>\n",
       "      <td>-0.002198</td>\n",
       "      <td>-0.013990</td>\n",
       "      <td>-0.007894</td>\n",
       "      <td>-0.014566</td>\n",
       "      <td>-0.003661</td>\n",
       "      <td>-0.009548</td>\n",
       "    </tr>\n",
       "    <tr>\n",
       "      <th>SeniorCitizen</th>\n",
       "      <td>-0.007447</td>\n",
       "      <td>1.000000</td>\n",
       "      <td>0.014867</td>\n",
       "      <td>-0.214233</td>\n",
       "      <td>0.005468</td>\n",
       "      <td>0.009464</td>\n",
       "      <td>0.132999</td>\n",
       "      <td>0.261265</td>\n",
       "      <td>-0.037615</td>\n",
       "      <td>0.063561</td>\n",
       "      <td>0.061565</td>\n",
       "      <td>-0.061045</td>\n",
       "      <td>0.102519</td>\n",
       "      <td>0.116841</td>\n",
       "      <td>-0.149106</td>\n",
       "      <td>0.155691</td>\n",
       "      <td>-0.095515</td>\n",
       "      <td>0.219351</td>\n",
       "      <td>0.093807</td>\n",
       "      <td>0.150097</td>\n",
       "    </tr>\n",
       "    <tr>\n",
       "      <th>Partner</th>\n",
       "      <td>-0.007791</td>\n",
       "      <td>0.014867</td>\n",
       "      <td>1.000000</td>\n",
       "      <td>0.449029</td>\n",
       "      <td>0.381976</td>\n",
       "      <td>0.024926</td>\n",
       "      <td>0.149325</td>\n",
       "      <td>0.002520</td>\n",
       "      <td>0.153067</td>\n",
       "      <td>0.149407</td>\n",
       "      <td>0.152803</td>\n",
       "      <td>0.125468</td>\n",
       "      <td>0.130013</td>\n",
       "      <td>0.120763</td>\n",
       "      <td>0.299910</td>\n",
       "      <td>-0.018037</td>\n",
       "      <td>0.141066</td>\n",
       "      <td>0.104010</td>\n",
       "      <td>0.321348</td>\n",
       "      <td>-0.146840</td>\n",
       "    </tr>\n",
       "    <tr>\n",
       "      <th>Dependents</th>\n",
       "      <td>0.009083</td>\n",
       "      <td>-0.214233</td>\n",
       "      <td>0.449029</td>\n",
       "      <td>1.000000</td>\n",
       "      <td>0.163710</td>\n",
       "      <td>-0.000579</td>\n",
       "      <td>-0.022399</td>\n",
       "      <td>-0.183310</td>\n",
       "      <td>0.085138</td>\n",
       "      <td>0.021946</td>\n",
       "      <td>0.009334</td>\n",
       "      <td>0.067460</td>\n",
       "      <td>-0.018705</td>\n",
       "      <td>-0.038750</td>\n",
       "      <td>0.245775</td>\n",
       "      <td>-0.112405</td>\n",
       "      <td>0.135491</td>\n",
       "      <td>-0.115946</td>\n",
       "      <td>0.062692</td>\n",
       "      <td>-0.160204</td>\n",
       "    </tr>\n",
       "    <tr>\n",
       "      <th>tenure</th>\n",
       "      <td>0.003207</td>\n",
       "      <td>0.005468</td>\n",
       "      <td>0.381976</td>\n",
       "      <td>0.163710</td>\n",
       "      <td>1.000000</td>\n",
       "      <td>0.010392</td>\n",
       "      <td>0.339181</td>\n",
       "      <td>0.040537</td>\n",
       "      <td>0.331981</td>\n",
       "      <td>0.358248</td>\n",
       "      <td>0.364085</td>\n",
       "      <td>0.329410</td>\n",
       "      <td>0.284979</td>\n",
       "      <td>0.297389</td>\n",
       "      <td>0.669871</td>\n",
       "      <td>0.006569</td>\n",
       "      <td>0.333857</td>\n",
       "      <td>0.256963</td>\n",
       "      <td>0.827756</td>\n",
       "      <td>-0.348469</td>\n",
       "    </tr>\n",
       "    <tr>\n",
       "      <th>PhoneService</th>\n",
       "      <td>-0.004913</td>\n",
       "      <td>0.009464</td>\n",
       "      <td>0.024926</td>\n",
       "      <td>-0.000579</td>\n",
       "      <td>0.010392</td>\n",
       "      <td>1.000000</td>\n",
       "      <td>0.284667</td>\n",
       "      <td>0.094904</td>\n",
       "      <td>-0.089481</td>\n",
       "      <td>-0.049382</td>\n",
       "      <td>-0.072536</td>\n",
       "      <td>-0.090169</td>\n",
       "      <td>-0.022703</td>\n",
       "      <td>-0.030394</td>\n",
       "      <td>0.005412</td>\n",
       "      <td>0.021340</td>\n",
       "      <td>-0.008743</td>\n",
       "      <td>0.250874</td>\n",
       "      <td>0.117165</td>\n",
       "      <td>0.009421</td>\n",
       "    </tr>\n",
       "    <tr>\n",
       "      <th>MultipleLines</th>\n",
       "      <td>-0.000853</td>\n",
       "      <td>0.132999</td>\n",
       "      <td>0.149325</td>\n",
       "      <td>-0.022399</td>\n",
       "      <td>0.339181</td>\n",
       "      <td>0.284667</td>\n",
       "      <td>1.000000</td>\n",
       "      <td>0.347290</td>\n",
       "      <td>0.103793</td>\n",
       "      <td>0.209348</td>\n",
       "      <td>0.203705</td>\n",
       "      <td>0.105362</td>\n",
       "      <td>0.253013</td>\n",
       "      <td>0.262018</td>\n",
       "      <td>0.111371</td>\n",
       "      <td>0.169139</td>\n",
       "      <td>0.035500</td>\n",
       "      <td>0.494639</td>\n",
       "      <td>0.475213</td>\n",
       "      <td>0.036342</td>\n",
       "    </tr>\n",
       "    <tr>\n",
       "      <th>InternetService</th>\n",
       "      <td>-0.009764</td>\n",
       "      <td>0.261265</td>\n",
       "      <td>0.002520</td>\n",
       "      <td>-0.183310</td>\n",
       "      <td>0.040537</td>\n",
       "      <td>0.094904</td>\n",
       "      <td>0.347290</td>\n",
       "      <td>1.000000</td>\n",
       "      <td>0.159078</td>\n",
       "      <td>0.309390</td>\n",
       "      <td>0.310537</td>\n",
       "      <td>0.166567</td>\n",
       "      <td>0.427900</td>\n",
       "      <td>0.424427</td>\n",
       "      <td>-0.287274</td>\n",
       "      <td>0.381487</td>\n",
       "      <td>-0.174806</td>\n",
       "      <td>0.903968</td>\n",
       "      <td>0.433097</td>\n",
       "      <td>0.310417</td>\n",
       "    </tr>\n",
       "    <tr>\n",
       "      <th>OnlineSecurity</th>\n",
       "      <td>-0.022042</td>\n",
       "      <td>-0.037615</td>\n",
       "      <td>0.153067</td>\n",
       "      <td>0.085138</td>\n",
       "      <td>0.331981</td>\n",
       "      <td>-0.089481</td>\n",
       "      <td>0.103793</td>\n",
       "      <td>0.159078</td>\n",
       "      <td>1.000000</td>\n",
       "      <td>0.286817</td>\n",
       "      <td>0.283300</td>\n",
       "      <td>0.352356</td>\n",
       "      <td>0.187675</td>\n",
       "      <td>0.198972</td>\n",
       "      <td>0.244694</td>\n",
       "      <td>0.004057</td>\n",
       "      <td>0.155867</td>\n",
       "      <td>0.303558</td>\n",
       "      <td>0.417388</td>\n",
       "      <td>-0.174301</td>\n",
       "    </tr>\n",
       "    <tr>\n",
       "      <th>OnlineBackup</th>\n",
       "      <td>-0.018858</td>\n",
       "      <td>0.063561</td>\n",
       "      <td>0.149407</td>\n",
       "      <td>0.021946</td>\n",
       "      <td>0.358248</td>\n",
       "      <td>-0.049382</td>\n",
       "      <td>0.209348</td>\n",
       "      <td>0.309390</td>\n",
       "      <td>0.286817</td>\n",
       "      <td>1.000000</td>\n",
       "      <td>0.307406</td>\n",
       "      <td>0.289065</td>\n",
       "      <td>0.283627</td>\n",
       "      <td>0.283952</td>\n",
       "      <td>0.153415</td>\n",
       "      <td>0.124097</td>\n",
       "      <td>0.093187</td>\n",
       "      <td>0.445699</td>\n",
       "      <td>0.506819</td>\n",
       "      <td>-0.082648</td>\n",
       "    </tr>\n",
       "    <tr>\n",
       "      <th>DeviceProtection</th>\n",
       "      <td>-0.004975</td>\n",
       "      <td>0.061565</td>\n",
       "      <td>0.152803</td>\n",
       "      <td>0.009334</td>\n",
       "      <td>0.364085</td>\n",
       "      <td>-0.072536</td>\n",
       "      <td>0.203705</td>\n",
       "      <td>0.310537</td>\n",
       "      <td>0.283300</td>\n",
       "      <td>0.307406</td>\n",
       "      <td>1.000000</td>\n",
       "      <td>0.333756</td>\n",
       "      <td>0.387768</td>\n",
       "      <td>0.410320</td>\n",
       "      <td>0.224016</td>\n",
       "      <td>0.105015</td>\n",
       "      <td>0.121750</td>\n",
       "      <td>0.481679</td>\n",
       "      <td>0.522103</td>\n",
       "      <td>-0.070000</td>\n",
       "    </tr>\n",
       "    <tr>\n",
       "      <th>TechSupport</th>\n",
       "      <td>-0.010327</td>\n",
       "      <td>-0.061045</td>\n",
       "      <td>0.125468</td>\n",
       "      <td>0.067460</td>\n",
       "      <td>0.329410</td>\n",
       "      <td>-0.090169</td>\n",
       "      <td>0.105362</td>\n",
       "      <td>0.166567</td>\n",
       "      <td>0.352356</td>\n",
       "      <td>0.289065</td>\n",
       "      <td>0.333756</td>\n",
       "      <td>1.000000</td>\n",
       "      <td>0.282697</td>\n",
       "      <td>0.284555</td>\n",
       "      <td>0.297283</td>\n",
       "      <td>0.037001</td>\n",
       "      <td>0.164237</td>\n",
       "      <td>0.341494</td>\n",
       "      <td>0.437070</td>\n",
       "      <td>-0.161821</td>\n",
       "    </tr>\n",
       "    <tr>\n",
       "      <th>StreamingTV</th>\n",
       "      <td>-0.009585</td>\n",
       "      <td>0.102519</td>\n",
       "      <td>0.130013</td>\n",
       "      <td>-0.018705</td>\n",
       "      <td>0.284979</td>\n",
       "      <td>-0.022703</td>\n",
       "      <td>0.253013</td>\n",
       "      <td>0.427900</td>\n",
       "      <td>0.187675</td>\n",
       "      <td>0.283627</td>\n",
       "      <td>0.387768</td>\n",
       "      <td>0.282697</td>\n",
       "      <td>1.000000</td>\n",
       "      <td>0.533960</td>\n",
       "      <td>0.107949</td>\n",
       "      <td>0.225319</td>\n",
       "      <td>-0.014035</td>\n",
       "      <td>0.628592</td>\n",
       "      <td>0.516855</td>\n",
       "      <td>0.060379</td>\n",
       "    </tr>\n",
       "    <tr>\n",
       "      <th>StreamingMovies</th>\n",
       "      <td>-0.008748</td>\n",
       "      <td>0.116841</td>\n",
       "      <td>0.120763</td>\n",
       "      <td>-0.038750</td>\n",
       "      <td>0.297389</td>\n",
       "      <td>-0.030394</td>\n",
       "      <td>0.262018</td>\n",
       "      <td>0.424427</td>\n",
       "      <td>0.198972</td>\n",
       "      <td>0.283952</td>\n",
       "      <td>0.410320</td>\n",
       "      <td>0.284555</td>\n",
       "      <td>0.533960</td>\n",
       "      <td>1.000000</td>\n",
       "      <td>0.113803</td>\n",
       "      <td>0.210501</td>\n",
       "      <td>-0.000459</td>\n",
       "      <td>0.628312</td>\n",
       "      <td>0.527862</td>\n",
       "      <td>0.058865</td>\n",
       "    </tr>\n",
       "    <tr>\n",
       "      <th>Contract</th>\n",
       "      <td>-0.002198</td>\n",
       "      <td>-0.149106</td>\n",
       "      <td>0.299910</td>\n",
       "      <td>0.245775</td>\n",
       "      <td>0.669871</td>\n",
       "      <td>0.005412</td>\n",
       "      <td>0.111371</td>\n",
       "      <td>-0.287274</td>\n",
       "      <td>0.244694</td>\n",
       "      <td>0.153415</td>\n",
       "      <td>0.224016</td>\n",
       "      <td>0.297283</td>\n",
       "      <td>0.107949</td>\n",
       "      <td>0.113803</td>\n",
       "      <td>1.000000</td>\n",
       "      <td>-0.182923</td>\n",
       "      <td>0.354853</td>\n",
       "      <td>-0.068840</td>\n",
       "      <td>0.447216</td>\n",
       "      <td>-0.394207</td>\n",
       "    </tr>\n",
       "    <tr>\n",
       "      <th>PaperlessBilling</th>\n",
       "      <td>-0.013990</td>\n",
       "      <td>0.155691</td>\n",
       "      <td>-0.018037</td>\n",
       "      <td>-0.112405</td>\n",
       "      <td>0.006569</td>\n",
       "      <td>0.021340</td>\n",
       "      <td>0.169139</td>\n",
       "      <td>0.381487</td>\n",
       "      <td>0.004057</td>\n",
       "      <td>0.124097</td>\n",
       "      <td>0.105015</td>\n",
       "      <td>0.037001</td>\n",
       "      <td>0.225319</td>\n",
       "      <td>0.210501</td>\n",
       "      <td>-0.182923</td>\n",
       "      <td>1.000000</td>\n",
       "      <td>-0.106746</td>\n",
       "      <td>0.355767</td>\n",
       "      <td>0.162803</td>\n",
       "      <td>0.188996</td>\n",
       "    </tr>\n",
       "    <tr>\n",
       "      <th>PaymentMethod</th>\n",
       "      <td>-0.007894</td>\n",
       "      <td>-0.095515</td>\n",
       "      <td>0.141066</td>\n",
       "      <td>0.135491</td>\n",
       "      <td>0.333857</td>\n",
       "      <td>-0.008743</td>\n",
       "      <td>0.035500</td>\n",
       "      <td>-0.174806</td>\n",
       "      <td>0.155867</td>\n",
       "      <td>0.093187</td>\n",
       "      <td>0.121750</td>\n",
       "      <td>0.164237</td>\n",
       "      <td>-0.014035</td>\n",
       "      <td>-0.000459</td>\n",
       "      <td>0.354853</td>\n",
       "      <td>-0.106746</td>\n",
       "      <td>1.000000</td>\n",
       "      <td>-0.072722</td>\n",
       "      <td>0.217646</td>\n",
       "      <td>-0.259263</td>\n",
       "    </tr>\n",
       "    <tr>\n",
       "      <th>MonthlyCharges</th>\n",
       "      <td>-0.014566</td>\n",
       "      <td>0.219351</td>\n",
       "      <td>0.104010</td>\n",
       "      <td>-0.115946</td>\n",
       "      <td>0.256963</td>\n",
       "      <td>0.250874</td>\n",
       "      <td>0.494639</td>\n",
       "      <td>0.903968</td>\n",
       "      <td>0.303558</td>\n",
       "      <td>0.445699</td>\n",
       "      <td>0.481679</td>\n",
       "      <td>0.341494</td>\n",
       "      <td>0.628592</td>\n",
       "      <td>0.628312</td>\n",
       "      <td>-0.068840</td>\n",
       "      <td>0.355767</td>\n",
       "      <td>-0.072722</td>\n",
       "      <td>1.000000</td>\n",
       "      <td>0.656797</td>\n",
       "      <td>0.186924</td>\n",
       "    </tr>\n",
       "    <tr>\n",
       "      <th>TotalCharges</th>\n",
       "      <td>-0.003661</td>\n",
       "      <td>0.093807</td>\n",
       "      <td>0.321348</td>\n",
       "      <td>0.062692</td>\n",
       "      <td>0.827756</td>\n",
       "      <td>0.117165</td>\n",
       "      <td>0.475213</td>\n",
       "      <td>0.433097</td>\n",
       "      <td>0.417388</td>\n",
       "      <td>0.506819</td>\n",
       "      <td>0.522103</td>\n",
       "      <td>0.437070</td>\n",
       "      <td>0.516855</td>\n",
       "      <td>0.527862</td>\n",
       "      <td>0.447216</td>\n",
       "      <td>0.162803</td>\n",
       "      <td>0.217646</td>\n",
       "      <td>0.656797</td>\n",
       "      <td>1.000000</td>\n",
       "      <td>-0.196391</td>\n",
       "    </tr>\n",
       "    <tr>\n",
       "      <th>Churn</th>\n",
       "      <td>-0.009548</td>\n",
       "      <td>0.150097</td>\n",
       "      <td>-0.146840</td>\n",
       "      <td>-0.160204</td>\n",
       "      <td>-0.348469</td>\n",
       "      <td>0.009421</td>\n",
       "      <td>0.036342</td>\n",
       "      <td>0.310417</td>\n",
       "      <td>-0.174301</td>\n",
       "      <td>-0.082648</td>\n",
       "      <td>-0.070000</td>\n",
       "      <td>-0.161821</td>\n",
       "      <td>0.060379</td>\n",
       "      <td>0.058865</td>\n",
       "      <td>-0.394207</td>\n",
       "      <td>0.188996</td>\n",
       "      <td>-0.259263</td>\n",
       "      <td>0.186924</td>\n",
       "      <td>-0.196391</td>\n",
       "      <td>1.000000</td>\n",
       "    </tr>\n",
       "  </tbody>\n",
       "</table>\n",
       "</div>"
      ],
      "text/plain": [
       "                    gender  SeniorCitizen   Partner  Dependents    tenure  \\\n",
       "gender            1.000000      -0.007447 -0.007791    0.009083  0.003207   \n",
       "SeniorCitizen    -0.007447       1.000000  0.014867   -0.214233  0.005468   \n",
       "Partner          -0.007791       0.014867  1.000000    0.449029  0.381976   \n",
       "Dependents        0.009083      -0.214233  0.449029    1.000000  0.163710   \n",
       "tenure            0.003207       0.005468  0.381976    0.163710  1.000000   \n",
       "PhoneService     -0.004913       0.009464  0.024926   -0.000579  0.010392   \n",
       "MultipleLines    -0.000853       0.132999  0.149325   -0.022399  0.339181   \n",
       "InternetService  -0.009764       0.261265  0.002520   -0.183310  0.040537   \n",
       "OnlineSecurity   -0.022042      -0.037615  0.153067    0.085138  0.331981   \n",
       "OnlineBackup     -0.018858       0.063561  0.149407    0.021946  0.358248   \n",
       "DeviceProtection -0.004975       0.061565  0.152803    0.009334  0.364085   \n",
       "TechSupport      -0.010327      -0.061045  0.125468    0.067460  0.329410   \n",
       "StreamingTV      -0.009585       0.102519  0.130013   -0.018705  0.284979   \n",
       "StreamingMovies  -0.008748       0.116841  0.120763   -0.038750  0.297389   \n",
       "Contract         -0.002198      -0.149106  0.299910    0.245775  0.669871   \n",
       "PaperlessBilling -0.013990       0.155691 -0.018037   -0.112405  0.006569   \n",
       "PaymentMethod    -0.007894      -0.095515  0.141066    0.135491  0.333857   \n",
       "MonthlyCharges   -0.014566       0.219351  0.104010   -0.115946  0.256963   \n",
       "TotalCharges     -0.003661       0.093807  0.321348    0.062692  0.827756   \n",
       "Churn            -0.009548       0.150097 -0.146840   -0.160204 -0.348469   \n",
       "\n",
       "                  PhoneService  MultipleLines  InternetService  \\\n",
       "gender               -0.004913      -0.000853        -0.009764   \n",
       "SeniorCitizen         0.009464       0.132999         0.261265   \n",
       "Partner               0.024926       0.149325         0.002520   \n",
       "Dependents           -0.000579      -0.022399        -0.183310   \n",
       "tenure                0.010392       0.339181         0.040537   \n",
       "PhoneService          1.000000       0.284667         0.094904   \n",
       "MultipleLines         0.284667       1.000000         0.347290   \n",
       "InternetService       0.094904       0.347290         1.000000   \n",
       "OnlineSecurity       -0.089481       0.103793         0.159078   \n",
       "OnlineBackup         -0.049382       0.209348         0.309390   \n",
       "DeviceProtection     -0.072536       0.203705         0.310537   \n",
       "TechSupport          -0.090169       0.105362         0.166567   \n",
       "StreamingTV          -0.022703       0.253013         0.427900   \n",
       "StreamingMovies      -0.030394       0.262018         0.424427   \n",
       "Contract              0.005412       0.111371        -0.287274   \n",
       "PaperlessBilling      0.021340       0.169139         0.381487   \n",
       "PaymentMethod        -0.008743       0.035500        -0.174806   \n",
       "MonthlyCharges        0.250874       0.494639         0.903968   \n",
       "TotalCharges          0.117165       0.475213         0.433097   \n",
       "Churn                 0.009421       0.036342         0.310417   \n",
       "\n",
       "                  OnlineSecurity  OnlineBackup  DeviceProtection  TechSupport  \\\n",
       "gender                 -0.022042     -0.018858         -0.004975    -0.010327   \n",
       "SeniorCitizen          -0.037615      0.063561          0.061565    -0.061045   \n",
       "Partner                 0.153067      0.149407          0.152803     0.125468   \n",
       "Dependents              0.085138      0.021946          0.009334     0.067460   \n",
       "tenure                  0.331981      0.358248          0.364085     0.329410   \n",
       "PhoneService           -0.089481     -0.049382         -0.072536    -0.090169   \n",
       "MultipleLines           0.103793      0.209348          0.203705     0.105362   \n",
       "InternetService         0.159078      0.309390          0.310537     0.166567   \n",
       "OnlineSecurity          1.000000      0.286817          0.283300     0.352356   \n",
       "OnlineBackup            0.286817      1.000000          0.307406     0.289065   \n",
       "DeviceProtection        0.283300      0.307406          1.000000     0.333756   \n",
       "TechSupport             0.352356      0.289065          0.333756     1.000000   \n",
       "StreamingTV             0.187675      0.283627          0.387768     0.282697   \n",
       "StreamingMovies         0.198972      0.283952          0.410320     0.284555   \n",
       "Contract                0.244694      0.153415          0.224016     0.297283   \n",
       "PaperlessBilling        0.004057      0.124097          0.105015     0.037001   \n",
       "PaymentMethod           0.155867      0.093187          0.121750     0.164237   \n",
       "MonthlyCharges          0.303558      0.445699          0.481679     0.341494   \n",
       "TotalCharges            0.417388      0.506819          0.522103     0.437070   \n",
       "Churn                  -0.174301     -0.082648         -0.070000    -0.161821   \n",
       "\n",
       "                  StreamingTV  StreamingMovies  Contract  PaperlessBilling  \\\n",
       "gender              -0.009585        -0.008748 -0.002198         -0.013990   \n",
       "SeniorCitizen        0.102519         0.116841 -0.149106          0.155691   \n",
       "Partner              0.130013         0.120763  0.299910         -0.018037   \n",
       "Dependents          -0.018705        -0.038750  0.245775         -0.112405   \n",
       "tenure               0.284979         0.297389  0.669871          0.006569   \n",
       "PhoneService        -0.022703        -0.030394  0.005412          0.021340   \n",
       "MultipleLines        0.253013         0.262018  0.111371          0.169139   \n",
       "InternetService      0.427900         0.424427 -0.287274          0.381487   \n",
       "OnlineSecurity       0.187675         0.198972  0.244694          0.004057   \n",
       "OnlineBackup         0.283627         0.283952  0.153415          0.124097   \n",
       "DeviceProtection     0.387768         0.410320  0.224016          0.105015   \n",
       "TechSupport          0.282697         0.284555  0.297283          0.037001   \n",
       "StreamingTV          1.000000         0.533960  0.107949          0.225319   \n",
       "StreamingMovies      0.533960         1.000000  0.113803          0.210501   \n",
       "Contract             0.107949         0.113803  1.000000         -0.182923   \n",
       "PaperlessBilling     0.225319         0.210501 -0.182923          1.000000   \n",
       "PaymentMethod       -0.014035        -0.000459  0.354853         -0.106746   \n",
       "MonthlyCharges       0.628592         0.628312 -0.068840          0.355767   \n",
       "TotalCharges         0.516855         0.527862  0.447216          0.162803   \n",
       "Churn                0.060379         0.058865 -0.394207          0.188996   \n",
       "\n",
       "                  PaymentMethod  MonthlyCharges  TotalCharges     Churn  \n",
       "gender                -0.007894       -0.014566     -0.003661 -0.009548  \n",
       "SeniorCitizen         -0.095515        0.219351      0.093807  0.150097  \n",
       "Partner                0.141066        0.104010      0.321348 -0.146840  \n",
       "Dependents             0.135491       -0.115946      0.062692 -0.160204  \n",
       "tenure                 0.333857        0.256963      0.827756 -0.348469  \n",
       "PhoneService          -0.008743        0.250874      0.117165  0.009421  \n",
       "MultipleLines          0.035500        0.494639      0.475213  0.036342  \n",
       "InternetService       -0.174806        0.903968      0.433097  0.310417  \n",
       "OnlineSecurity         0.155867        0.303558      0.417388 -0.174301  \n",
       "OnlineBackup           0.093187        0.445699      0.506819 -0.082648  \n",
       "DeviceProtection       0.121750        0.481679      0.522103 -0.070000  \n",
       "TechSupport            0.164237        0.341494      0.437070 -0.161821  \n",
       "StreamingTV           -0.014035        0.628592      0.516855  0.060379  \n",
       "StreamingMovies       -0.000459        0.628312      0.527862  0.058865  \n",
       "Contract               0.354853       -0.068840      0.447216 -0.394207  \n",
       "PaperlessBilling      -0.106746        0.355767      0.162803  0.188996  \n",
       "PaymentMethod          1.000000       -0.072722      0.217646 -0.259263  \n",
       "MonthlyCharges        -0.072722        1.000000      0.656797  0.186924  \n",
       "TotalCharges           0.217646        0.656797      1.000000 -0.196391  \n",
       "Churn                 -0.259263        0.186924     -0.196391  1.000000  "
      ]
     },
     "execution_count": 66,
     "metadata": {},
     "output_type": "execute_result"
    }
   ],
   "source": [
    "corr"
   ]
  },
  {
   "cell_type": "code",
   "execution_count": 67,
   "metadata": {},
   "outputs": [
    {
     "data": {
      "image/png": "[encoded data removed]",
      "text/plain": [
       "<Figure size 2160x720 with 2 Axes>"
      ]
     },
     "metadata": {
      "needs_background": "light"
     },
     "output_type": "display_data"
    }
   ],
   "source": [
    "plt.figure(figsize=(30,10))\n",
    "sns.heatmap(corr, cmap='coolwarm', annot= True)\n",
    "plt.show()"
   ]
  },
  {
   "cell_type": "code",
   "execution_count": 68,
   "metadata": {},
   "outputs": [
    {
     "data": {
      "text/plain": [
       "Index(['SeniorCitizen', 'Partner', 'Dependents', 'tenure', 'InternetService',\n",
       "       'OnlineSecurity', 'TechSupport', 'Contract', 'PaperlessBilling',\n",
       "       'PaymentMethod', 'MonthlyCharges', 'TotalCharges', 'Churn'],\n",
       "      dtype='object')"
      ]
     },
     "execution_count": 68,
     "metadata": {},
     "output_type": "execute_result"
    }
   ],
   "source": [
    "corr[abs(corr['Churn']) > 0.1].index"
   ]
  },
  {
   "cell_type": "code",
   "execution_count": 69,
   "metadata": {},
   "outputs": [
    {
     "data": {
      "text/html": [
       "<div>\n",
       "<style scoped>\n",
       "    .dataframe tbody tr th:only-of-type {\n",
       "        vertical-align: middle;\n",
       "    }\n",
       "\n",
       "    .dataframe tbody tr th {\n",
       "        vertical-align: top;\n",
       "    }\n",
       "\n",
       "    .dataframe thead th {\n",
       "        text-align: right;\n",
       "    }\n",
       "</style>\n",
       "<table border=\"1\" class=\"dataframe\">\n",
       "  <thead>\n",
       "    <tr style=\"text-align: right;\">\n",
       "      <th></th>\n",
       "      <th>SeniorCitizen</th>\n",
       "      <th>Partner</th>\n",
       "      <th>Dependents</th>\n",
       "      <th>tenure</th>\n",
       "      <th>InternetService</th>\n",
       "      <th>OnlineSecurity</th>\n",
       "      <th>TechSupport</th>\n",
       "      <th>Contract</th>\n",
       "      <th>PaperlessBilling</th>\n",
       "      <th>PaymentMethod</th>\n",
       "      <th>MonthlyCharges</th>\n",
       "      <th>TotalCharges</th>\n",
       "      <th>Churn</th>\n",
       "    </tr>\n",
       "  </thead>\n",
       "  <tbody>\n",
       "    <tr>\n",
       "      <th>0</th>\n",
       "      <td>0</td>\n",
       "      <td>1</td>\n",
       "      <td>1</td>\n",
       "      <td>72</td>\n",
       "      <td>0</td>\n",
       "      <td>0</td>\n",
       "      <td>0</td>\n",
       "      <td>24</td>\n",
       "      <td>0</td>\n",
       "      <td>4</td>\n",
       "      <td>24</td>\n",
       "      <td>1734</td>\n",
       "      <td>0</td>\n",
       "    </tr>\n",
       "    <tr>\n",
       "      <th>1</th>\n",
       "      <td>0</td>\n",
       "      <td>0</td>\n",
       "      <td>0</td>\n",
       "      <td>44</td>\n",
       "      <td>2</td>\n",
       "      <td>0</td>\n",
       "      <td>0</td>\n",
       "      <td>1</td>\n",
       "      <td>1</td>\n",
       "      <td>4</td>\n",
       "      <td>88</td>\n",
       "      <td>3973</td>\n",
       "      <td>0</td>\n",
       "    </tr>\n",
       "    <tr>\n",
       "      <th>2</th>\n",
       "      <td>1</td>\n",
       "      <td>1</td>\n",
       "      <td>0</td>\n",
       "      <td>38</td>\n",
       "      <td>2</td>\n",
       "      <td>0</td>\n",
       "      <td>0</td>\n",
       "      <td>1</td>\n",
       "      <td>1</td>\n",
       "      <td>3</td>\n",
       "      <td>74</td>\n",
       "      <td>2869</td>\n",
       "      <td>1</td>\n",
       "    </tr>\n",
       "    <tr>\n",
       "      <th>3</th>\n",
       "      <td>0</td>\n",
       "      <td>0</td>\n",
       "      <td>0</td>\n",
       "      <td>4</td>\n",
       "      <td>1</td>\n",
       "      <td>0</td>\n",
       "      <td>0</td>\n",
       "      <td>1</td>\n",
       "      <td>1</td>\n",
       "      <td>1</td>\n",
       "      <td>55</td>\n",
       "      <td>238</td>\n",
       "      <td>0</td>\n",
       "    </tr>\n",
       "    <tr>\n",
       "      <th>4</th>\n",
       "      <td>0</td>\n",
       "      <td>0</td>\n",
       "      <td>0</td>\n",
       "      <td>2</td>\n",
       "      <td>1</td>\n",
       "      <td>1</td>\n",
       "      <td>0</td>\n",
       "      <td>1</td>\n",
       "      <td>0</td>\n",
       "      <td>1</td>\n",
       "      <td>53</td>\n",
       "      <td>119</td>\n",
       "      <td>0</td>\n",
       "    </tr>\n",
       "    <tr>\n",
       "      <th>...</th>\n",
       "      <td>...</td>\n",
       "      <td>...</td>\n",
       "      <td>...</td>\n",
       "      <td>...</td>\n",
       "      <td>...</td>\n",
       "      <td>...</td>\n",
       "      <td>...</td>\n",
       "      <td>...</td>\n",
       "      <td>...</td>\n",
       "      <td>...</td>\n",
       "      <td>...</td>\n",
       "      <td>...</td>\n",
       "      <td>...</td>\n",
       "    </tr>\n",
       "    <tr>\n",
       "      <th>5981</th>\n",
       "      <td>0</td>\n",
       "      <td>1</td>\n",
       "      <td>0</td>\n",
       "      <td>1</td>\n",
       "      <td>2</td>\n",
       "      <td>1</td>\n",
       "      <td>0</td>\n",
       "      <td>1</td>\n",
       "      <td>1</td>\n",
       "      <td>1</td>\n",
       "      <td>95</td>\n",
       "      <td>95</td>\n",
       "      <td>1</td>\n",
       "    </tr>\n",
       "    <tr>\n",
       "      <th>5982</th>\n",
       "      <td>0</td>\n",
       "      <td>1</td>\n",
       "      <td>1</td>\n",
       "      <td>23</td>\n",
       "      <td>1</td>\n",
       "      <td>1</td>\n",
       "      <td>1</td>\n",
       "      <td>24</td>\n",
       "      <td>1</td>\n",
       "      <td>4</td>\n",
       "      <td>91</td>\n",
       "      <td>2198</td>\n",
       "      <td>0</td>\n",
       "    </tr>\n",
       "    <tr>\n",
       "      <th>5983</th>\n",
       "      <td>0</td>\n",
       "      <td>1</td>\n",
       "      <td>1</td>\n",
       "      <td>12</td>\n",
       "      <td>0</td>\n",
       "      <td>0</td>\n",
       "      <td>0</td>\n",
       "      <td>1</td>\n",
       "      <td>1</td>\n",
       "      <td>1</td>\n",
       "      <td>21</td>\n",
       "      <td>306</td>\n",
       "      <td>0</td>\n",
       "    </tr>\n",
       "    <tr>\n",
       "      <th>5984</th>\n",
       "      <td>1</td>\n",
       "      <td>0</td>\n",
       "      <td>0</td>\n",
       "      <td>12</td>\n",
       "      <td>2</td>\n",
       "      <td>0</td>\n",
       "      <td>0</td>\n",
       "      <td>1</td>\n",
       "      <td>1</td>\n",
       "      <td>1</td>\n",
       "      <td>99</td>\n",
       "      <td>1200</td>\n",
       "      <td>1</td>\n",
       "    </tr>\n",
       "    <tr>\n",
       "      <th>5985</th>\n",
       "      <td>0</td>\n",
       "      <td>0</td>\n",
       "      <td>0</td>\n",
       "      <td>26</td>\n",
       "      <td>0</td>\n",
       "      <td>0</td>\n",
       "      <td>0</td>\n",
       "      <td>12</td>\n",
       "      <td>0</td>\n",
       "      <td>4</td>\n",
       "      <td>19</td>\n",
       "      <td>457</td>\n",
       "      <td>0</td>\n",
       "    </tr>\n",
       "  </tbody>\n",
       "</table>\n",
       "<p>5986 rows × 13 columns</p>\n",
       "</div>"
      ],
      "text/plain": [
       "      SeniorCitizen  Partner  Dependents  tenure  InternetService  \\\n",
       "0                 0        1           1      72                0   \n",
       "1                 0        0           0      44                2   \n",
       "2                 1        1           0      38                2   \n",
       "3                 0        0           0       4                1   \n",
       "4                 0        0           0       2                1   \n",
       "...             ...      ...         ...     ...              ...   \n",
       "5981              0        1           0       1                2   \n",
       "5982              0        1           1      23                1   \n",
       "5983              0        1           1      12                0   \n",
       "5984              1        0           0      12                2   \n",
       "5985              0        0           0      26                0   \n",
       "\n",
       "      OnlineSecurity  TechSupport  Contract  PaperlessBilling  PaymentMethod  \\\n",
       "0                  0            0        24                 0              4   \n",
       "1                  0            0         1                 1              4   \n",
       "2                  0            0         1                 1              3   \n",
       "3                  0            0         1                 1              1   \n",
       "4                  1            0         1                 0              1   \n",
       "...              ...          ...       ...               ...            ...   \n",
       "5981               1            0         1                 1              1   \n",
       "5982               1            1        24                 1              4   \n",
       "5983               0            0         1                 1              1   \n",
       "5984               0            0         1                 1              1   \n",
       "5985               0            0        12                 0              4   \n",
       "\n",
       "      MonthlyCharges  TotalCharges  Churn  \n",
       "0                 24          1734      0  \n",
       "1                 88          3973      0  \n",
       "2                 74          2869      1  \n",
       "3                 55           238      0  \n",
       "4                 53           119      0  \n",
       "...              ...           ...    ...  \n",
       "5981              95            95      1  \n",
       "5982              91          2198      0  \n",
       "5983              21           306      0  \n",
       "5984              99          1200      1  \n",
       "5985              19           457      0  \n",
       "\n",
       "[5986 rows x 13 columns]"
      ]
     },
     "execution_count": 69,
     "metadata": {},
     "output_type": "execute_result"
    }
   ],
   "source": [
    "df = df[['SeniorCitizen', 'Partner', 'Dependents', 'tenure', 'InternetService',\n",
    "       'OnlineSecurity', 'TechSupport', 'Contract', 'PaperlessBilling',\n",
    "       'PaymentMethod', 'MonthlyCharges', 'TotalCharges', 'Churn']]\n",
    "df"
   ]
  },
  {
   "cell_type": "code",
   "execution_count": 70,
   "metadata": {},
   "outputs": [],
   "source": [
    "from sklearn.model_selection import train_test_split\n",
    "from sklearn.metrics import classification_report\n",
    "from sklearn import metrics"
   ]
  },
  {
   "cell_type": "code",
   "execution_count": 71,
   "metadata": {},
   "outputs": [],
   "source": [
    "x = df.drop(['Churn'], axis= 1)\n",
    "y = df['Churn']"
   ]
  },
  {
   "cell_type": "code",
   "execution_count": 72,
   "metadata": {},
   "outputs": [
    {
     "data": {
      "text/html": [
       "<div>\n",
       "<style scoped>\n",
       "    .dataframe tbody tr th:only-of-type {\n",
       "        vertical-align: middle;\n",
       "    }\n",
       "\n",
       "    .dataframe tbody tr th {\n",
       "        vertical-align: top;\n",
       "    }\n",
       "\n",
       "    .dataframe thead th {\n",
       "        text-align: right;\n",
       "    }\n",
       "</style>\n",
       "<table border=\"1\" class=\"dataframe\">\n",
       "  <thead>\n",
       "    <tr style=\"text-align: right;\">\n",
       "      <th></th>\n",
       "      <th>SeniorCitizen</th>\n",
       "      <th>Partner</th>\n",
       "      <th>Dependents</th>\n",
       "      <th>tenure</th>\n",
       "      <th>InternetService</th>\n",
       "      <th>OnlineSecurity</th>\n",
       "      <th>TechSupport</th>\n",
       "      <th>Contract</th>\n",
       "      <th>PaperlessBilling</th>\n",
       "      <th>PaymentMethod</th>\n",
       "      <th>MonthlyCharges</th>\n",
       "      <th>TotalCharges</th>\n",
       "    </tr>\n",
       "  </thead>\n",
       "  <tbody>\n",
       "    <tr>\n",
       "      <th>0</th>\n",
       "      <td>0</td>\n",
       "      <td>1</td>\n",
       "      <td>1</td>\n",
       "      <td>72</td>\n",
       "      <td>0</td>\n",
       "      <td>0</td>\n",
       "      <td>0</td>\n",
       "      <td>24</td>\n",
       "      <td>0</td>\n",
       "      <td>4</td>\n",
       "      <td>24</td>\n",
       "      <td>1734</td>\n",
       "    </tr>\n",
       "    <tr>\n",
       "      <th>1</th>\n",
       "      <td>0</td>\n",
       "      <td>0</td>\n",
       "      <td>0</td>\n",
       "      <td>44</td>\n",
       "      <td>2</td>\n",
       "      <td>0</td>\n",
       "      <td>0</td>\n",
       "      <td>1</td>\n",
       "      <td>1</td>\n",
       "      <td>4</td>\n",
       "      <td>88</td>\n",
       "      <td>3973</td>\n",
       "    </tr>\n",
       "    <tr>\n",
       "      <th>2</th>\n",
       "      <td>1</td>\n",
       "      <td>1</td>\n",
       "      <td>0</td>\n",
       "      <td>38</td>\n",
       "      <td>2</td>\n",
       "      <td>0</td>\n",
       "      <td>0</td>\n",
       "      <td>1</td>\n",
       "      <td>1</td>\n",
       "      <td>3</td>\n",
       "      <td>74</td>\n",
       "      <td>2869</td>\n",
       "    </tr>\n",
       "    <tr>\n",
       "      <th>3</th>\n",
       "      <td>0</td>\n",
       "      <td>0</td>\n",
       "      <td>0</td>\n",
       "      <td>4</td>\n",
       "      <td>1</td>\n",
       "      <td>0</td>\n",
       "      <td>0</td>\n",
       "      <td>1</td>\n",
       "      <td>1</td>\n",
       "      <td>1</td>\n",
       "      <td>55</td>\n",
       "      <td>238</td>\n",
       "    </tr>\n",
       "    <tr>\n",
       "      <th>4</th>\n",
       "      <td>0</td>\n",
       "      <td>0</td>\n",
       "      <td>0</td>\n",
       "      <td>2</td>\n",
       "      <td>1</td>\n",
       "      <td>1</td>\n",
       "      <td>0</td>\n",
       "      <td>1</td>\n",
       "      <td>0</td>\n",
       "      <td>1</td>\n",
       "      <td>53</td>\n",
       "      <td>119</td>\n",
       "    </tr>\n",
       "    <tr>\n",
       "      <th>...</th>\n",
       "      <td>...</td>\n",
       "      <td>...</td>\n",
       "      <td>...</td>\n",
       "      <td>...</td>\n",
       "      <td>...</td>\n",
       "      <td>...</td>\n",
       "      <td>...</td>\n",
       "      <td>...</td>\n",
       "      <td>...</td>\n",
       "      <td>...</td>\n",
       "      <td>...</td>\n",
       "      <td>...</td>\n",
       "    </tr>\n",
       "    <tr>\n",
       "      <th>5981</th>\n",
       "      <td>0</td>\n",
       "      <td>1</td>\n",
       "      <td>0</td>\n",
       "      <td>1</td>\n",
       "      <td>2</td>\n",
       "      <td>1</td>\n",
       "      <td>0</td>\n",
       "      <td>1</td>\n",
       "      <td>1</td>\n",
       "      <td>1</td>\n",
       "      <td>95</td>\n",
       "      <td>95</td>\n",
       "    </tr>\n",
       "    <tr>\n",
       "      <th>5982</th>\n",
       "      <td>0</td>\n",
       "      <td>1</td>\n",
       "      <td>1</td>\n",
       "      <td>23</td>\n",
       "      <td>1</td>\n",
       "      <td>1</td>\n",
       "      <td>1</td>\n",
       "      <td>24</td>\n",
       "      <td>1</td>\n",
       "      <td>4</td>\n",
       "      <td>91</td>\n",
       "      <td>2198</td>\n",
       "    </tr>\n",
       "    <tr>\n",
       "      <th>5983</th>\n",
       "      <td>0</td>\n",
       "      <td>1</td>\n",
       "      <td>1</td>\n",
       "      <td>12</td>\n",
       "      <td>0</td>\n",
       "      <td>0</td>\n",
       "      <td>0</td>\n",
       "      <td>1</td>\n",
       "      <td>1</td>\n",
       "      <td>1</td>\n",
       "      <td>21</td>\n",
       "      <td>306</td>\n",
       "    </tr>\n",
       "    <tr>\n",
       "      <th>5984</th>\n",
       "      <td>1</td>\n",
       "      <td>0</td>\n",
       "      <td>0</td>\n",
       "      <td>12</td>\n",
       "      <td>2</td>\n",
       "      <td>0</td>\n",
       "      <td>0</td>\n",
       "      <td>1</td>\n",
       "      <td>1</td>\n",
       "      <td>1</td>\n",
       "      <td>99</td>\n",
       "      <td>1200</td>\n",
       "    </tr>\n",
       "    <tr>\n",
       "      <th>5985</th>\n",
       "      <td>0</td>\n",
       "      <td>0</td>\n",
       "      <td>0</td>\n",
       "      <td>26</td>\n",
       "      <td>0</td>\n",
       "      <td>0</td>\n",
       "      <td>0</td>\n",
       "      <td>12</td>\n",
       "      <td>0</td>\n",
       "      <td>4</td>\n",
       "      <td>19</td>\n",
       "      <td>457</td>\n",
       "    </tr>\n",
       "  </tbody>\n",
       "</table>\n",
       "<p>5986 rows × 12 columns</p>\n",
       "</div>"
      ],
      "text/plain": [
       "      SeniorCitizen  Partner  Dependents  tenure  InternetService  \\\n",
       "0                 0        1           1      72                0   \n",
       "1                 0        0           0      44                2   \n",
       "2                 1        1           0      38                2   \n",
       "3                 0        0           0       4                1   \n",
       "4                 0        0           0       2                1   \n",
       "...             ...      ...         ...     ...              ...   \n",
       "5981              0        1           0       1                2   \n",
       "5982              0        1           1      23                1   \n",
       "5983              0        1           1      12                0   \n",
       "5984              1        0           0      12                2   \n",
       "5985              0        0           0      26                0   \n",
       "\n",
       "      OnlineSecurity  TechSupport  Contract  PaperlessBilling  PaymentMethod  \\\n",
       "0                  0            0        24                 0              4   \n",
       "1                  0            0         1                 1              4   \n",
       "2                  0            0         1                 1              3   \n",
       "3                  0            0         1                 1              1   \n",
       "4                  1            0         1                 0              1   \n",
       "...              ...          ...       ...               ...            ...   \n",
       "5981               1            0         1                 1              1   \n",
       "5982               1            1        24                 1              4   \n",
       "5983               0            0         1                 1              1   \n",
       "5984               0            0         1                 1              1   \n",
       "5985               0            0        12                 0              4   \n",
       "\n",
       "      MonthlyCharges  TotalCharges  \n",
       "0                 24          1734  \n",
       "1                 88          3973  \n",
       "2                 74          2869  \n",
       "3                 55           238  \n",
       "4                 53           119  \n",
       "...              ...           ...  \n",
       "5981              95            95  \n",
       "5982              91          2198  \n",
       "5983              21           306  \n",
       "5984              99          1200  \n",
       "5985              19           457  \n",
       "\n",
       "[5986 rows x 12 columns]"
      ]
     },
     "execution_count": 72,
     "metadata": {},
     "output_type": "execute_result"
    }
   ],
   "source": [
    "x"
   ]
  },
  {
   "cell_type": "code",
   "execution_count": 73,
   "metadata": {},
   "outputs": [
    {
     "data": {
      "text/plain": [
       "0       0\n",
       "1       0\n",
       "2       1\n",
       "3       0\n",
       "4       0\n",
       "       ..\n",
       "5981    1\n",
       "5982    0\n",
       "5983    0\n",
       "5984    1\n",
       "5985    0\n",
       "Name: Churn, Length: 5986, dtype: int64"
      ]
     },
     "execution_count": 73,
     "metadata": {},
     "output_type": "execute_result"
    }
   ],
   "source": [
    "y"
   ]
  },
  {
   "cell_type": "code",
   "execution_count": 74,
   "metadata": {},
   "outputs": [
    {
     "data": {
      "text/plain": [
       "((5986, 12), (5986,))"
      ]
     },
     "execution_count": 74,
     "metadata": {},
     "output_type": "execute_result"
    }
   ],
   "source": [
    "x.shape, y.shape"
   ]
  },
  {
   "cell_type": "code",
   "execution_count": 75,
   "metadata": {},
   "outputs": [],
   "source": [
    "x_train, x_test, y_train, y_test = train_test_split(x, y, test_size= 0.2, random_state= 42)"
   ]
  },
  {
   "cell_type": "code",
   "execution_count": 76,
   "metadata": {},
   "outputs": [
    {
     "data": {
      "text/html": [
       "<div>\n",
       "<style scoped>\n",
       "    .dataframe tbody tr th:only-of-type {\n",
       "        vertical-align: middle;\n",
       "    }\n",
       "\n",
       "    .dataframe tbody tr th {\n",
       "        vertical-align: top;\n",
       "    }\n",
       "\n",
       "    .dataframe thead th {\n",
       "        text-align: right;\n",
       "    }\n",
       "</style>\n",
       "<table border=\"1\" class=\"dataframe\">\n",
       "  <thead>\n",
       "    <tr style=\"text-align: right;\">\n",
       "      <th></th>\n",
       "      <th>SeniorCitizen</th>\n",
       "      <th>Partner</th>\n",
       "      <th>Dependents</th>\n",
       "      <th>tenure</th>\n",
       "      <th>InternetService</th>\n",
       "      <th>OnlineSecurity</th>\n",
       "      <th>TechSupport</th>\n",
       "      <th>Contract</th>\n",
       "      <th>PaperlessBilling</th>\n",
       "      <th>PaymentMethod</th>\n",
       "      <th>MonthlyCharges</th>\n",
       "      <th>TotalCharges</th>\n",
       "    </tr>\n",
       "  </thead>\n",
       "  <tbody>\n",
       "    <tr>\n",
       "      <th>5737</th>\n",
       "      <td>1</td>\n",
       "      <td>1</td>\n",
       "      <td>0</td>\n",
       "      <td>28</td>\n",
       "      <td>0</td>\n",
       "      <td>0</td>\n",
       "      <td>0</td>\n",
       "      <td>1</td>\n",
       "      <td>0</td>\n",
       "      <td>2</td>\n",
       "      <td>25</td>\n",
       "      <td>734</td>\n",
       "    </tr>\n",
       "    <tr>\n",
       "      <th>829</th>\n",
       "      <td>0</td>\n",
       "      <td>0</td>\n",
       "      <td>0</td>\n",
       "      <td>6</td>\n",
       "      <td>1</td>\n",
       "      <td>0</td>\n",
       "      <td>0</td>\n",
       "      <td>1</td>\n",
       "      <td>1</td>\n",
       "      <td>1</td>\n",
       "      <td>47</td>\n",
       "      <td>305</td>\n",
       "    </tr>\n",
       "    <tr>\n",
       "      <th>2694</th>\n",
       "      <td>0</td>\n",
       "      <td>0</td>\n",
       "      <td>0</td>\n",
       "      <td>55</td>\n",
       "      <td>2</td>\n",
       "      <td>0</td>\n",
       "      <td>0</td>\n",
       "      <td>1</td>\n",
       "      <td>1</td>\n",
       "      <td>1</td>\n",
       "      <td>96</td>\n",
       "      <td>5283</td>\n",
       "    </tr>\n",
       "    <tr>\n",
       "      <th>1496</th>\n",
       "      <td>0</td>\n",
       "      <td>1</td>\n",
       "      <td>1</td>\n",
       "      <td>54</td>\n",
       "      <td>1</td>\n",
       "      <td>0</td>\n",
       "      <td>0</td>\n",
       "      <td>24</td>\n",
       "      <td>1</td>\n",
       "      <td>3</td>\n",
       "      <td>59</td>\n",
       "      <td>3246</td>\n",
       "    </tr>\n",
       "    <tr>\n",
       "      <th>438</th>\n",
       "      <td>0</td>\n",
       "      <td>0</td>\n",
       "      <td>0</td>\n",
       "      <td>29</td>\n",
       "      <td>0</td>\n",
       "      <td>0</td>\n",
       "      <td>0</td>\n",
       "      <td>1</td>\n",
       "      <td>0</td>\n",
       "      <td>4</td>\n",
       "      <td>19</td>\n",
       "      <td>601</td>\n",
       "    </tr>\n",
       "    <tr>\n",
       "      <th>...</th>\n",
       "      <td>...</td>\n",
       "      <td>...</td>\n",
       "      <td>...</td>\n",
       "      <td>...</td>\n",
       "      <td>...</td>\n",
       "      <td>...</td>\n",
       "      <td>...</td>\n",
       "      <td>...</td>\n",
       "      <td>...</td>\n",
       "      <td>...</td>\n",
       "      <td>...</td>\n",
       "      <td>...</td>\n",
       "    </tr>\n",
       "    <tr>\n",
       "      <th>3772</th>\n",
       "      <td>0</td>\n",
       "      <td>1</td>\n",
       "      <td>0</td>\n",
       "      <td>72</td>\n",
       "      <td>0</td>\n",
       "      <td>0</td>\n",
       "      <td>0</td>\n",
       "      <td>24</td>\n",
       "      <td>0</td>\n",
       "      <td>2</td>\n",
       "      <td>25</td>\n",
       "      <td>1710</td>\n",
       "    </tr>\n",
       "    <tr>\n",
       "      <th>5191</th>\n",
       "      <td>0</td>\n",
       "      <td>1</td>\n",
       "      <td>1</td>\n",
       "      <td>66</td>\n",
       "      <td>0</td>\n",
       "      <td>0</td>\n",
       "      <td>0</td>\n",
       "      <td>12</td>\n",
       "      <td>1</td>\n",
       "      <td>1</td>\n",
       "      <td>20</td>\n",
       "      <td>1359</td>\n",
       "    </tr>\n",
       "    <tr>\n",
       "      <th>5226</th>\n",
       "      <td>0</td>\n",
       "      <td>0</td>\n",
       "      <td>0</td>\n",
       "      <td>5</td>\n",
       "      <td>1</td>\n",
       "      <td>0</td>\n",
       "      <td>1</td>\n",
       "      <td>1</td>\n",
       "      <td>1</td>\n",
       "      <td>4</td>\n",
       "      <td>63</td>\n",
       "      <td>318</td>\n",
       "    </tr>\n",
       "    <tr>\n",
       "      <th>5390</th>\n",
       "      <td>0</td>\n",
       "      <td>1</td>\n",
       "      <td>1</td>\n",
       "      <td>43</td>\n",
       "      <td>1</td>\n",
       "      <td>1</td>\n",
       "      <td>0</td>\n",
       "      <td>24</td>\n",
       "      <td>0</td>\n",
       "      <td>3</td>\n",
       "      <td>75</td>\n",
       "      <td>3254</td>\n",
       "    </tr>\n",
       "    <tr>\n",
       "      <th>860</th>\n",
       "      <td>0</td>\n",
       "      <td>1</td>\n",
       "      <td>0</td>\n",
       "      <td>64</td>\n",
       "      <td>2</td>\n",
       "      <td>1</td>\n",
       "      <td>0</td>\n",
       "      <td>24</td>\n",
       "      <td>1</td>\n",
       "      <td>3</td>\n",
       "      <td>99</td>\n",
       "      <td>6375</td>\n",
       "    </tr>\n",
       "  </tbody>\n",
       "</table>\n",
       "<p>4788 rows × 12 columns</p>\n",
       "</div>"
      ],
      "text/plain": [
       "      SeniorCitizen  Partner  Dependents  tenure  InternetService  \\\n",
       "5737              1        1           0      28                0   \n",
       "829               0        0           0       6                1   \n",
       "2694              0        0           0      55                2   \n",
       "1496              0        1           1      54                1   \n",
       "438               0        0           0      29                0   \n",
       "...             ...      ...         ...     ...              ...   \n",
       "3772              0        1           0      72                0   \n",
       "5191              0        1           1      66                0   \n",
       "5226              0        0           0       5                1   \n",
       "5390              0        1           1      43                1   \n",
       "860               0        1           0      64                2   \n",
       "\n",
       "      OnlineSecurity  TechSupport  Contract  PaperlessBilling  PaymentMethod  \\\n",
       "5737               0            0         1                 0              2   \n",
       "829                0            0         1                 1              1   \n",
       "2694               0            0         1                 1              1   \n",
       "1496               0            0        24                 1              3   \n",
       "438                0            0         1                 0              4   \n",
       "...              ...          ...       ...               ...            ...   \n",
       "3772               0            0        24                 0              2   \n",
       "5191               0            0        12                 1              1   \n",
       "5226               0            1         1                 1              4   \n",
       "5390               1            0        24                 0              3   \n",
       "860                1            0        24                 1              3   \n",
       "\n",
       "      MonthlyCharges  TotalCharges  \n",
       "5737              25           734  \n",
       "829               47           305  \n",
       "2694              96          5283  \n",
       "1496              59          3246  \n",
       "438               19           601  \n",
       "...              ...           ...  \n",
       "3772              25          1710  \n",
       "5191              20          1359  \n",
       "5226              63           318  \n",
       "5390              75          3254  \n",
       "860               99          6375  \n",
       "\n",
       "[4788 rows x 12 columns]"
      ]
     },
     "execution_count": 76,
     "metadata": {},
     "output_type": "execute_result"
    }
   ],
   "source": [
    "x_train"
   ]
  },
  {
   "cell_type": "code",
   "execution_count": 77,
   "metadata": {},
   "outputs": [
    {
     "name": "stdout",
     "output_type": "stream",
     "text": [
      "              precision    recall  f1-score   support\n",
      "\n",
      "           0       0.84      0.90      0.86       895\n",
      "           1       0.61      0.48      0.54       303\n",
      "\n",
      "    accuracy                           0.79      1198\n",
      "   macro avg       0.72      0.69      0.70      1198\n",
      "weighted avg       0.78      0.79      0.78      1198\n",
      "\n"
     ]
    },
    {
     "name": "stderr",
     "output_type": "stream",
     "text": [
      "C:\\Users\\hp\\Documents\\Python Scripts\\lib\\site-packages\\sklearn\\linear_model\\_logistic.py:765: ConvergenceWarning: lbfgs failed to converge (status=1):\n",
      "STOP: TOTAL NO. of ITERATIONS REACHED LIMIT.\n",
      "\n",
      "Increase the number of iterations (max_iter) or scale the data as shown in:\n",
      "    https://scikit-learn.org/stable/modules/preprocessing.html\n",
      "Please also refer to the documentation for alternative solver options:\n",
      "    https://scikit-learn.org/stable/modules/linear_model.html#logistic-regression\n",
      "  extra_warning_msg=_LOGISTIC_SOLVER_CONVERGENCE_MSG)\n"
     ]
    },
    {
     "data": {
      "text/plain": [
       "<sklearn.metrics._plot.roc_curve.RocCurveDisplay at 0x23d9a544f48>"
      ]
     },
     "execution_count": 77,
     "metadata": {},
     "output_type": "execute_result"
    },
    {
     "data": {
      "image/png": "[encoded data removed]",
      "text/plain": [
       "<Figure size 432x288 with 1 Axes>"
      ]
     },
     "metadata": {
      "needs_background": "light"
     },
     "output_type": "display_data"
    }
   ],
   "source": [
    "from sklearn.linear_model import LogisticRegression\n",
    "logistic= LogisticRegression()\n",
    "logistic.fit(x_train, y_train)\n",
    "prediction_lr = logistic.predict(x_test)\n",
    "print(classification_report(y_test, prediction_lr))\n",
    "metrics.plot_roc_curve(logistic, x_test, y_test)"
   ]
  },
  {
   "cell_type": "code",
   "execution_count": 79,
   "metadata": {},
   "outputs": [
    {
     "name": "stdout",
     "output_type": "stream",
     "text": [
      "<function classification_report at 0x0000023D9DC0E288> [1 1 0 ... 1 0 1]\n"
     ]
    },
    {
     "data": {
      "text/plain": [
       "<sklearn.metrics._plot.roc_curve.RocCurveDisplay at 0x23d9e066c88>"
      ]
     },
     "execution_count": 79,
     "metadata": {},
     "output_type": "execute_result"
    },
    {
     "data": {
      "image/png": "[encoded data removed]",
      "text/plain": [
       "<Figure size 432x288 with 1 Axes>"
      ]
     },
     "metadata": {
      "needs_background": "light"
     },
     "output_type": "display_data"
    }
   ],
   "source": [
    "from sklearn.tree import DecisionTreeClassifier\n",
    "tree = DecisionTreeClassifier()\n",
    "tree.fit(x_train, y_train)\n",
    "prediction_dt = tree.predict(x_test)\n",
    "print(classification_report, prediction_dt)\n",
    "metrics.plot_roc_curve(tree, x_test, y_test)"
   ]
  },
  {
   "cell_type": "code",
   "execution_count": 80,
   "metadata": {},
   "outputs": [
    {
     "name": "stdout",
     "output_type": "stream",
     "text": [
      "              precision    recall  f1-score   support\n",
      "\n",
      "           0       0.83      0.82      0.82       895\n",
      "           1       0.48      0.51      0.50       303\n",
      "\n",
      "    accuracy                           0.74      1198\n",
      "   macro avg       0.66      0.66      0.66      1198\n",
      "weighted avg       0.74      0.74      0.74      1198\n",
      "\n"
     ]
    },
    {
     "data": {
      "text/plain": [
       "<sklearn.metrics._plot.roc_curve.RocCurveDisplay at 0x23d9ea08c08>"
      ]
     },
     "execution_count": 80,
     "metadata": {},
     "output_type": "execute_result"
    },
    {
     "data": {
      "image/png": "[encoded data removed]",
      "text/plain": [
       "<Figure size 432x288 with 1 Axes>"
      ]
     },
     "metadata": {
      "needs_background": "light"
     },
     "output_type": "display_data"
    }
   ],
   "source": [
    "from sklearn.tree import DecisionTreeClassifier\n",
    "tree = DecisionTreeClassifier()\n",
    "tree.fit(x_train, y_train)\n",
    "prediction_dt = tree.predict(x_test)\n",
    "print(classification_report(y_test, prediction_dt))\n",
    "metrics.plot_roc_curve(tree, x_test, y_test)"
   ]
  },
  {
   "cell_type": "code",
   "execution_count": 82,
   "metadata": {},
   "outputs": [
    {
     "name": "stdout",
     "output_type": "stream",
     "text": [
      "              precision    recall  f1-score   support\n",
      "\n",
      "           0       0.83      0.89      0.86       895\n",
      "           1       0.60      0.47      0.53       303\n",
      "\n",
      "    accuracy                           0.79      1198\n",
      "   macro avg       0.71      0.68      0.69      1198\n",
      "weighted avg       0.77      0.79      0.78      1198\n",
      "\n"
     ]
    },
    {
     "data": {
      "text/plain": [
       "<sklearn.metrics._plot.roc_curve.RocCurveDisplay at 0x23d9fa8ce88>"
      ]
     },
     "execution_count": 82,
     "metadata": {},
     "output_type": "execute_result"
    },
    {
     "data": {
      "image/png": "[encoded data removed]",
      "text/plain": [
       "<Figure size 432x288 with 1 Axes>"
      ]
     },
     "metadata": {
      "needs_background": "light"
     },
     "output_type": "display_data"
    }
   ],
   "source": [
    "from sklearn.ensemble import RandomForestClassifier\n",
    "forest = RandomForestClassifier()\n",
    "forest.fit(x_train, y_train)\n",
    "prediction_rf = forest.predict(x_test)\n",
    "print(classification_report(y_test, prediction_rf))\n",
    "metrics.plot_roc_curve(forest, x_test, y_test)"
   ]
  },
  {
   "cell_type": "code",
   "execution_count": 83,
   "metadata": {},
   "outputs": [],
   "source": [
    "import keras\n",
    "from keras.layers import Dense\n",
    "from keras.models import Sequential\n",
    "from keras.layers import Dropout"
   ]
  },
  {
   "cell_type": "code",
   "execution_count": 84,
   "metadata": {},
   "outputs": [
    {
     "data": {
      "text/plain": [
       "(5986, 12)"
      ]
     },
     "execution_count": 84,
     "metadata": {},
     "output_type": "execute_result"
    }
   ],
   "source": [
    "x.shape"
   ]
  },
  {
   "cell_type": "code",
   "execution_count": 85,
   "metadata": {},
   "outputs": [
    {
     "data": {
      "text/plain": [
       "(5986,)"
      ]
     },
     "execution_count": 85,
     "metadata": {},
     "output_type": "execute_result"
    }
   ],
   "source": [
    "y.shape"
   ]
  },
  {
   "cell_type": "code",
   "execution_count": 86,
   "metadata": {},
   "outputs": [
    {
     "name": "stdout",
     "output_type": "stream",
     "text": [
      "Model: \"sequential\"\n",
      "_________________________________________________________________\n",
      "Layer (type)                 Output Shape              Param #   \n",
      "=================================================================\n",
      "dense (Dense)                (None, 32)                416       \n",
      "_________________________________________________________________\n",
      "dropout (Dropout)            (None, 32)                0         \n",
      "_________________________________________________________________\n",
      "dense_1 (Dense)              (None, 16)                528       \n",
      "_________________________________________________________________\n",
      "dense_2 (Dense)              (None, 1)                 17        \n",
      "=================================================================\n",
      "Total params: 961\n",
      "Trainable params: 961\n",
      "Non-trainable params: 0\n",
      "_________________________________________________________________\n"
     ]
    }
   ],
   "source": [
    "model = Sequential([\n",
    "    Dense(32, activation='relu', input_dim = 12),\n",
    "    Dropout(0.5),\n",
    "    Dense(16, activation= 'relu'),\n",
    "    Dense(1, activation='sigmoid')\n",
    "])\n",
    "\n",
    "model.compile(optimizer='adam', loss= 'mean_squared_error', metrics=['accuracy'])\n",
    "model.summary()"
   ]
  },
  {
   "cell_type": "code",
   "execution_count": 87,
   "metadata": {},
   "outputs": [
    {
     "name": "stdout",
     "output_type": "stream",
     "text": [
      "Epoch 1/200\n",
      "479/479 - 1s - loss: 0.6789 - accuracy: 0.3147\n",
      "Epoch 2/200\n",
      "479/479 - 0s - loss: 0.5166 - accuracy: 0.4754\n",
      "Epoch 3/200\n",
      "479/479 - 0s - loss: 0.2616 - accuracy: 0.7345\n",
      "Epoch 4/200\n",
      "479/479 - 0s - loss: 0.2583 - accuracy: 0.7375\n",
      "Epoch 5/200\n",
      "479/479 - 0s - loss: 0.2472 - accuracy: 0.7477\n",
      "Epoch 6/200\n",
      "479/479 - 0s - loss: 0.2442 - accuracy: 0.7517\n",
      "Epoch 7/200\n",
      "479/479 - 0s - loss: 0.2452 - accuracy: 0.7506\n",
      "Epoch 8/200\n",
      "479/479 - 0s - loss: 0.2426 - accuracy: 0.7536\n",
      "Epoch 9/200\n",
      "479/479 - 0s - loss: 0.2493 - accuracy: 0.7477\n",
      "Epoch 10/200\n",
      "479/479 - 1s - loss: 0.2407 - accuracy: 0.7561\n",
      "Epoch 11/200\n",
      "479/479 - 1s - loss: 0.2400 - accuracy: 0.7567\n",
      "Epoch 12/200\n",
      "479/479 - 1s - loss: 0.2442 - accuracy: 0.7521\n",
      "Epoch 13/200\n",
      "479/479 - 1s - loss: 0.2406 - accuracy: 0.7561\n",
      "Epoch 14/200\n",
      "479/479 - 1s - loss: 0.2435 - accuracy: 0.7536\n",
      "Epoch 15/200\n",
      "479/479 - 1s - loss: 0.2479 - accuracy: 0.7504\n",
      "Epoch 16/200\n",
      "479/479 - 0s - loss: 0.2452 - accuracy: 0.7523\n",
      "Epoch 17/200\n",
      "479/479 - 0s - loss: 0.2386 - accuracy: 0.7588\n",
      "Epoch 18/200\n",
      "479/479 - 0s - loss: 0.2356 - accuracy: 0.7607\n",
      "Epoch 19/200\n",
      "479/479 - 1s - loss: 0.2362 - accuracy: 0.7598\n",
      "Epoch 20/200\n",
      "479/479 - 1s - loss: 0.2333 - accuracy: 0.7627\n",
      "Epoch 21/200\n",
      "479/479 - 1s - loss: 0.2362 - accuracy: 0.7613\n",
      "Epoch 22/200\n",
      "479/479 - 1s - loss: 0.2346 - accuracy: 0.7615\n",
      "Epoch 23/200\n",
      "479/479 - 1s - loss: 0.2324 - accuracy: 0.7642\n",
      "Epoch 24/200\n",
      "479/479 - 1s - loss: 0.2348 - accuracy: 0.7613\n",
      "Epoch 25/200\n",
      "479/479 - 0s - loss: 0.2282 - accuracy: 0.7690\n",
      "Epoch 26/200\n",
      "479/479 - 0s - loss: 0.2293 - accuracy: 0.7669\n",
      "Epoch 27/200\n",
      "479/479 - 0s - loss: 0.2345 - accuracy: 0.7619\n",
      "Epoch 28/200\n",
      "479/479 - 1s - loss: 0.2365 - accuracy: 0.7592\n",
      "Epoch 29/200\n",
      "479/479 - 0s - loss: 0.2329 - accuracy: 0.7634\n",
      "Epoch 30/200\n",
      "479/479 - 0s - loss: 0.2307 - accuracy: 0.7659\n",
      "Epoch 31/200\n",
      "479/479 - 0s - loss: 0.2298 - accuracy: 0.7673\n",
      "Epoch 32/200\n",
      "479/479 - 0s - loss: 0.2382 - accuracy: 0.7571\n",
      "Epoch 33/200\n",
      "479/479 - 0s - loss: 0.2360 - accuracy: 0.7604\n",
      "Epoch 34/200\n",
      "479/479 - 0s - loss: 0.2283 - accuracy: 0.7671\n",
      "Epoch 35/200\n",
      "479/479 - 0s - loss: 0.2251 - accuracy: 0.7707\n",
      "Epoch 36/200\n",
      "479/479 - 0s - loss: 0.2281 - accuracy: 0.7673\n",
      "Epoch 37/200\n",
      "479/479 - 0s - loss: 0.2244 - accuracy: 0.7696\n",
      "Epoch 38/200\n",
      "479/479 - 0s - loss: 0.2242 - accuracy: 0.7711\n",
      "Epoch 39/200\n",
      "479/479 - 0s - loss: 0.2240 - accuracy: 0.7696\n",
      "Epoch 40/200\n",
      "479/479 - 0s - loss: 0.2225 - accuracy: 0.7711\n",
      "Epoch 41/200\n",
      "479/479 - 0s - loss: 0.2187 - accuracy: 0.7732\n",
      "Epoch 42/200\n",
      "479/479 - 0s - loss: 0.2282 - accuracy: 0.7625\n",
      "Epoch 43/200\n",
      "479/479 - 0s - loss: 0.2217 - accuracy: 0.7686\n",
      "Epoch 44/200\n",
      "479/479 - 0s - loss: 0.2135 - accuracy: 0.7784\n",
      "Epoch 45/200\n",
      "479/479 - 0s - loss: 0.2135 - accuracy: 0.7757\n",
      "Epoch 46/200\n",
      "479/479 - 0s - loss: 0.2068 - accuracy: 0.7728\n",
      "Epoch 47/200\n",
      "479/479 - 0s - loss: 0.2034 - accuracy: 0.7734\n",
      "Epoch 48/200\n",
      "479/479 - 0s - loss: 0.2020 - accuracy: 0.7688\n",
      "Epoch 49/200\n",
      "479/479 - 0s - loss: 0.1983 - accuracy: 0.7629\n",
      "Epoch 50/200\n",
      "479/479 - 0s - loss: 0.1881 - accuracy: 0.7598\n",
      "Epoch 51/200\n",
      "479/479 - 0s - loss: 0.1730 - accuracy: 0.7757\n",
      "Epoch 52/200\n",
      "479/479 - 0s - loss: 0.1648 - accuracy: 0.7734\n",
      "Epoch 53/200\n",
      "479/479 - 0s - loss: 0.1573 - accuracy: 0.7797\n",
      "Epoch 54/200\n",
      "479/479 - 0s - loss: 0.1565 - accuracy: 0.7769\n",
      "Epoch 55/200\n",
      "479/479 - 0s - loss: 0.1559 - accuracy: 0.7769\n",
      "Epoch 56/200\n",
      "479/479 - 0s - loss: 0.1547 - accuracy: 0.7836\n",
      "Epoch 57/200\n",
      "479/479 - 0s - loss: 0.1541 - accuracy: 0.7792\n",
      "Epoch 58/200\n",
      "479/479 - 0s - loss: 0.1528 - accuracy: 0.7757\n",
      "Epoch 59/200\n",
      "479/479 - 0s - loss: 0.1541 - accuracy: 0.7822\n",
      "Epoch 60/200\n",
      "479/479 - 0s - loss: 0.1520 - accuracy: 0.7792\n",
      "Epoch 61/200\n",
      "479/479 - 0s - loss: 0.1522 - accuracy: 0.7838\n",
      "Epoch 62/200\n",
      "479/479 - 0s - loss: 0.1507 - accuracy: 0.7849\n",
      "Epoch 63/200\n",
      "479/479 - 0s - loss: 0.1533 - accuracy: 0.7799\n",
      "Epoch 64/200\n",
      "479/479 - 0s - loss: 0.1504 - accuracy: 0.7805\n",
      "Epoch 65/200\n",
      "479/479 - 0s - loss: 0.1489 - accuracy: 0.7878\n",
      "Epoch 66/200\n",
      "479/479 - 0s - loss: 0.1497 - accuracy: 0.7872\n",
      "Epoch 67/200\n",
      "479/479 - 0s - loss: 0.1542 - accuracy: 0.7824\n",
      "Epoch 68/200\n",
      "479/479 - 0s - loss: 0.1527 - accuracy: 0.7774\n",
      "Epoch 69/200\n",
      "479/479 - 0s - loss: 0.1509 - accuracy: 0.7817\n",
      "Epoch 70/200\n",
      "479/479 - 0s - loss: 0.1504 - accuracy: 0.7826\n",
      "Epoch 71/200\n",
      "479/479 - 0s - loss: 0.1496 - accuracy: 0.7834\n",
      "Epoch 72/200\n",
      "479/479 - 0s - loss: 0.1492 - accuracy: 0.7836\n",
      "Epoch 73/200\n",
      "479/479 - 0s - loss: 0.1488 - accuracy: 0.7836\n",
      "Epoch 74/200\n",
      "479/479 - 0s - loss: 0.1499 - accuracy: 0.7832\n",
      "Epoch 75/200\n",
      "479/479 - 0s - loss: 0.1498 - accuracy: 0.7855\n",
      "Epoch 76/200\n",
      "479/479 - 0s - loss: 0.1500 - accuracy: 0.7845\n",
      "Epoch 77/200\n",
      "479/479 - 0s - loss: 0.1491 - accuracy: 0.7855\n",
      "Epoch 78/200\n",
      "479/479 - 0s - loss: 0.1480 - accuracy: 0.7805\n",
      "Epoch 79/200\n",
      "479/479 - 0s - loss: 0.1478 - accuracy: 0.7861\n",
      "Epoch 80/200\n",
      "479/479 - 0s - loss: 0.1517 - accuracy: 0.7886\n",
      "Epoch 81/200\n",
      "479/479 - 0s - loss: 0.1475 - accuracy: 0.7861\n",
      "Epoch 82/200\n",
      "479/479 - 0s - loss: 0.1503 - accuracy: 0.7834\n",
      "Epoch 83/200\n",
      "479/479 - 0s - loss: 0.1485 - accuracy: 0.7884\n",
      "Epoch 84/200\n",
      "479/479 - 0s - loss: 0.1478 - accuracy: 0.7851\n",
      "Epoch 85/200\n",
      "479/479 - 0s - loss: 0.1482 - accuracy: 0.7878\n",
      "Epoch 86/200\n",
      "479/479 - 0s - loss: 0.1468 - accuracy: 0.7840\n",
      "Epoch 87/200\n",
      "479/479 - 0s - loss: 0.1500 - accuracy: 0.7843\n",
      "Epoch 88/200\n",
      "479/479 - 0s - loss: 0.1465 - accuracy: 0.7868\n",
      "Epoch 89/200\n",
      "479/479 - 0s - loss: 0.1469 - accuracy: 0.7872\n",
      "Epoch 90/200\n",
      "479/479 - 0s - loss: 0.1482 - accuracy: 0.7863\n",
      "Epoch 91/200\n",
      "479/479 - 0s - loss: 0.1470 - accuracy: 0.7861\n",
      "Epoch 92/200\n",
      "479/479 - 0s - loss: 0.1479 - accuracy: 0.7824\n",
      "Epoch 93/200\n",
      "479/479 - 0s - loss: 0.1489 - accuracy: 0.7836\n",
      "Epoch 94/200\n",
      "479/479 - 0s - loss: 0.1460 - accuracy: 0.7865\n",
      "Epoch 95/200\n",
      "479/479 - 0s - loss: 0.1472 - accuracy: 0.7859\n",
      "Epoch 96/200\n",
      "479/479 - 0s - loss: 0.1479 - accuracy: 0.7830\n",
      "Epoch 97/200\n",
      "479/479 - 0s - loss: 0.1466 - accuracy: 0.7820\n",
      "Epoch 98/200\n",
      "479/479 - 0s - loss: 0.1482 - accuracy: 0.7817\n",
      "Epoch 99/200\n",
      "479/479 - 0s - loss: 0.1481 - accuracy: 0.7845\n",
      "Epoch 100/200\n",
      "479/479 - 0s - loss: 0.1458 - accuracy: 0.7863\n",
      "Epoch 101/200\n",
      "479/479 - 0s - loss: 0.1457 - accuracy: 0.7922\n",
      "Epoch 102/200\n",
      "479/479 - 0s - loss: 0.1464 - accuracy: 0.7882\n",
      "Epoch 103/200\n",
      "479/479 - 0s - loss: 0.1456 - accuracy: 0.7865\n",
      "Epoch 104/200\n",
      "479/479 - 0s - loss: 0.1448 - accuracy: 0.7893\n",
      "Epoch 105/200\n",
      "479/479 - 0s - loss: 0.1465 - accuracy: 0.7874\n",
      "Epoch 106/200\n",
      "479/479 - 0s - loss: 0.1450 - accuracy: 0.7914\n",
      "Epoch 107/200\n",
      "479/479 - 0s - loss: 0.1457 - accuracy: 0.7824\n",
      "Epoch 108/200\n",
      "479/479 - 0s - loss: 0.1445 - accuracy: 0.7949\n",
      "Epoch 109/200\n",
      "479/479 - 0s - loss: 0.1463 - accuracy: 0.7901\n",
      "Epoch 110/200\n",
      "479/479 - 0s - loss: 0.1443 - accuracy: 0.7874\n",
      "Epoch 111/200\n",
      "479/479 - 0s - loss: 0.1465 - accuracy: 0.7857\n",
      "Epoch 112/200\n",
      "479/479 - 0s - loss: 0.1458 - accuracy: 0.7861\n",
      "Epoch 113/200\n",
      "479/479 - 0s - loss: 0.1459 - accuracy: 0.7922\n",
      "Epoch 114/200\n",
      "479/479 - 0s - loss: 0.1458 - accuracy: 0.7916\n",
      "Epoch 115/200\n",
      "479/479 - 0s - loss: 0.1447 - accuracy: 0.7914\n",
      "Epoch 116/200\n",
      "479/479 - 0s - loss: 0.1472 - accuracy: 0.7882\n",
      "Epoch 117/200\n",
      "479/479 - 0s - loss: 0.1449 - accuracy: 0.7920\n",
      "Epoch 118/200\n",
      "479/479 - 0s - loss: 0.1450 - accuracy: 0.7880\n",
      "Epoch 119/200\n",
      "479/479 - 0s - loss: 0.1458 - accuracy: 0.7897\n",
      "Epoch 120/200\n",
      "479/479 - 0s - loss: 0.1458 - accuracy: 0.7895\n",
      "Epoch 121/200\n",
      "479/479 - 0s - loss: 0.1449 - accuracy: 0.7855\n",
      "Epoch 122/200\n",
      "479/479 - 0s - loss: 0.1455 - accuracy: 0.7865\n",
      "Epoch 123/200\n",
      "479/479 - 0s - loss: 0.1454 - accuracy: 0.7903\n",
      "Epoch 124/200\n",
      "479/479 - 0s - loss: 0.1476 - accuracy: 0.7813\n",
      "Epoch 125/200\n",
      "479/479 - 0s - loss: 0.1455 - accuracy: 0.7861\n",
      "Epoch 126/200\n",
      "479/479 - 0s - loss: 0.1449 - accuracy: 0.7926\n",
      "Epoch 127/200\n",
      "479/479 - 0s - loss: 0.1449 - accuracy: 0.7905\n",
      "Epoch 128/200\n",
      "479/479 - 0s - loss: 0.1449 - accuracy: 0.7899\n",
      "Epoch 129/200\n",
      "479/479 - 0s - loss: 0.1448 - accuracy: 0.7982\n",
      "Epoch 130/200\n",
      "479/479 - 0s - loss: 0.1437 - accuracy: 0.7891\n",
      "Epoch 131/200\n",
      "479/479 - 0s - loss: 0.1429 - accuracy: 0.7962\n",
      "Epoch 132/200\n",
      "479/479 - 0s - loss: 0.1453 - accuracy: 0.7884\n",
      "Epoch 133/200\n",
      "479/479 - 0s - loss: 0.1438 - accuracy: 0.7895\n",
      "Epoch 134/200\n",
      "479/479 - 0s - loss: 0.1457 - accuracy: 0.7888\n",
      "Epoch 135/200\n",
      "479/479 - 0s - loss: 0.1446 - accuracy: 0.7897\n",
      "Epoch 136/200\n",
      "479/479 - 0s - loss: 0.1443 - accuracy: 0.7886\n",
      "Epoch 137/200\n"
     ]
    },
    {
     "name": "stdout",
     "output_type": "stream",
     "text": [
      "479/479 - 0s - loss: 0.1451 - accuracy: 0.7939\n",
      "Epoch 138/200\n",
      "479/479 - 0s - loss: 0.1445 - accuracy: 0.7918\n",
      "Epoch 139/200\n",
      "479/479 - 0s - loss: 0.1442 - accuracy: 0.7928\n",
      "Epoch 140/200\n",
      "479/479 - 0s - loss: 0.1454 - accuracy: 0.7943\n",
      "Epoch 141/200\n",
      "479/479 - 0s - loss: 0.1444 - accuracy: 0.7928\n",
      "Epoch 142/200\n",
      "479/479 - 0s - loss: 0.1442 - accuracy: 0.7897\n",
      "Epoch 143/200\n",
      "479/479 - 1s - loss: 0.1438 - accuracy: 0.7924\n",
      "Epoch 144/200\n",
      "479/479 - 0s - loss: 0.1448 - accuracy: 0.7922\n",
      "Epoch 145/200\n",
      "479/479 - 0s - loss: 0.1445 - accuracy: 0.7922\n",
      "Epoch 146/200\n",
      "479/479 - 1s - loss: 0.1448 - accuracy: 0.7880\n",
      "Epoch 147/200\n",
      "479/479 - 0s - loss: 0.1457 - accuracy: 0.7893\n",
      "Epoch 148/200\n",
      "479/479 - 0s - loss: 0.1447 - accuracy: 0.7914\n",
      "Epoch 149/200\n",
      "479/479 - 0s - loss: 0.1444 - accuracy: 0.7857\n",
      "Epoch 150/200\n",
      "479/479 - 0s - loss: 0.1433 - accuracy: 0.7934\n",
      "Epoch 151/200\n",
      "479/479 - 0s - loss: 0.1445 - accuracy: 0.7943\n",
      "Epoch 152/200\n",
      "479/479 - 0s - loss: 0.1450 - accuracy: 0.7909\n",
      "Epoch 153/200\n",
      "479/479 - 0s - loss: 0.1436 - accuracy: 0.7920\n",
      "Epoch 154/200\n",
      "479/479 - 0s - loss: 0.1457 - accuracy: 0.7861\n",
      "Epoch 155/200\n",
      "479/479 - 0s - loss: 0.1450 - accuracy: 0.7901\n",
      "Epoch 156/200\n",
      "479/479 - 0s - loss: 0.1435 - accuracy: 0.7886\n",
      "Epoch 157/200\n",
      "479/479 - 0s - loss: 0.1424 - accuracy: 0.7899\n",
      "Epoch 158/200\n",
      "479/479 - 1s - loss: 0.1440 - accuracy: 0.7939\n",
      "Epoch 159/200\n",
      "479/479 - 0s - loss: 0.1444 - accuracy: 0.7897\n",
      "Epoch 160/200\n",
      "479/479 - 0s - loss: 0.1446 - accuracy: 0.7914\n",
      "Epoch 161/200\n",
      "479/479 - 0s - loss: 0.1443 - accuracy: 0.7870\n",
      "Epoch 162/200\n",
      "479/479 - 0s - loss: 0.1443 - accuracy: 0.7874\n",
      "Epoch 163/200\n",
      "479/479 - 0s - loss: 0.1443 - accuracy: 0.7870\n",
      "Epoch 164/200\n",
      "479/479 - 0s - loss: 0.1434 - accuracy: 0.7893\n",
      "Epoch 165/200\n",
      "479/479 - 0s - loss: 0.1442 - accuracy: 0.7939\n",
      "Epoch 166/200\n",
      "479/479 - 0s - loss: 0.1440 - accuracy: 0.7911\n",
      "Epoch 167/200\n",
      "479/479 - 0s - loss: 0.1432 - accuracy: 0.7949\n",
      "Epoch 168/200\n",
      "479/479 - 0s - loss: 0.1423 - accuracy: 0.7937\n",
      "Epoch 169/200\n",
      "479/479 - 0s - loss: 0.1435 - accuracy: 0.7932\n",
      "Epoch 170/200\n",
      "479/479 - 0s - loss: 0.1433 - accuracy: 0.7914\n",
      "Epoch 171/200\n",
      "479/479 - 0s - loss: 0.1443 - accuracy: 0.7909\n",
      "Epoch 172/200\n",
      "479/479 - 0s - loss: 0.1426 - accuracy: 0.7916\n",
      "Epoch 173/200\n",
      "479/479 - 1s - loss: 0.1432 - accuracy: 0.7922\n",
      "Epoch 174/200\n",
      "479/479 - 0s - loss: 0.1440 - accuracy: 0.7880\n",
      "Epoch 175/200\n",
      "479/479 - 0s - loss: 0.1430 - accuracy: 0.7966\n",
      "Epoch 176/200\n",
      "479/479 - 0s - loss: 0.1412 - accuracy: 0.7920\n",
      "Epoch 177/200\n",
      "479/479 - 0s - loss: 0.1454 - accuracy: 0.7895\n",
      "Epoch 178/200\n",
      "479/479 - 0s - loss: 0.1447 - accuracy: 0.7897\n",
      "Epoch 179/200\n",
      "479/479 - 0s - loss: 0.1464 - accuracy: 0.7905\n",
      "Epoch 180/200\n",
      "479/479 - 0s - loss: 0.1433 - accuracy: 0.7886\n",
      "Epoch 181/200\n",
      "479/479 - 0s - loss: 0.1427 - accuracy: 0.7937\n",
      "Epoch 182/200\n",
      "479/479 - 0s - loss: 0.1442 - accuracy: 0.7922\n",
      "Epoch 183/200\n",
      "479/479 - 1s - loss: 0.1442 - accuracy: 0.7914\n",
      "Epoch 184/200\n",
      "479/479 - 0s - loss: 0.1444 - accuracy: 0.7855\n",
      "Epoch 185/200\n",
      "479/479 - 0s - loss: 0.1438 - accuracy: 0.7911\n",
      "Epoch 186/200\n",
      "479/479 - 0s - loss: 0.1418 - accuracy: 0.7962\n",
      "Epoch 187/200\n",
      "479/479 - 0s - loss: 0.1438 - accuracy: 0.7891\n",
      "Epoch 188/200\n",
      "479/479 - 0s - loss: 0.1435 - accuracy: 0.7882\n",
      "Epoch 189/200\n",
      "479/479 - 0s - loss: 0.1439 - accuracy: 0.7911\n",
      "Epoch 190/200\n",
      "479/479 - 0s - loss: 0.1434 - accuracy: 0.7964\n",
      "Epoch 191/200\n",
      "479/479 - 0s - loss: 0.1436 - accuracy: 0.7928\n",
      "Epoch 192/200\n",
      "479/479 - 0s - loss: 0.1439 - accuracy: 0.7899\n",
      "Epoch 193/200\n",
      "479/479 - 0s - loss: 0.1443 - accuracy: 0.7939\n",
      "Epoch 194/200\n",
      "479/479 - 0s - loss: 0.1438 - accuracy: 0.7918\n",
      "Epoch 195/200\n",
      "479/479 - 0s - loss: 0.1439 - accuracy: 0.7949\n",
      "Epoch 196/200\n",
      "479/479 - 0s - loss: 0.1439 - accuracy: 0.7899\n",
      "Epoch 197/200\n",
      "479/479 - 0s - loss: 0.1451 - accuracy: 0.7914\n",
      "Epoch 198/200\n",
      "479/479 - 0s - loss: 0.1436 - accuracy: 0.7893\n",
      "Epoch 199/200\n",
      "479/479 - 0s - loss: 0.1437 - accuracy: 0.7905\n",
      "Epoch 200/200\n",
      "479/479 - 0s - loss: 0.1441 - accuracy: 0.7955\n"
     ]
    },
    {
     "data": {
      "text/plain": [
       "<tensorflow.python.keras.callbacks.History at 0x23da5bca288>"
      ]
     },
     "execution_count": 87,
     "metadata": {},
     "output_type": "execute_result"
    }
   ],
   "source": [
    "history = model.fit(x_train, y_train, batch_size= 10, epochs= 200, verbose=2)\n",
    "history"
   ]
  },
  {
   "cell_type": "code",
   "execution_count": 88,
   "metadata": {},
   "outputs": [
    {
     "name": "stdout",
     "output_type": "stream",
     "text": [
      "dict_keys(['loss', 'accuracy'])\n"
     ]
    }
   ],
   "source": [
    "print(history.history.keys())"
   ]
  },
  {
   "cell_type": "code",
   "execution_count": 89,
   "metadata": {},
   "outputs": [
    {
     "data": {
      "text/plain": [
       "<matplotlib.legend.Legend at 0x23da5da3f88>"
      ]
     },
     "execution_count": 89,
     "metadata": {},
     "output_type": "execute_result"
    },
    {
     "data": {
      "image/png": "[encoded data removed]",
      "text/plain": [
       "<Figure size 432x288 with 1 Axes>"
      ]
     },
     "metadata": {
      "needs_background": "light"
     },
     "output_type": "display_data"
    }
   ],
   "source": [
    "plt.plot(history.history['accuracy'], label='Accuracy', color= 'blue')\n",
    "plt.plot(history.history['loss'], label='Loss', color= 'red')\n",
    "plt.legend()"
   ]
  },
  {
   "cell_type": "code",
   "execution_count": 90,
   "metadata": {},
   "outputs": [
    {
     "name": "stdout",
     "output_type": "stream",
     "text": [
      "              precision    recall  f1-score   support\n",
      "\n",
      "           0       0.80      0.97      0.88       895\n",
      "           1       0.77      0.27      0.40       303\n",
      "\n",
      "    accuracy                           0.79      1198\n",
      "   macro avg       0.78      0.62      0.64      1198\n",
      "weighted avg       0.79      0.79      0.76      1198\n",
      "\n"
     ]
    }
   ],
   "source": [
    "prediction_nn = model.predict(x_test)\n",
    "prediction_nn = [1 if y>=0.5 else 0 for y in prediction_nn]\n",
    "print(classification_report(y_test, prediction_nn))"
   ]
  },
  {
   "cell_type": "code",
   "execution_count": null,
   "metadata": {},
   "outputs": [],
   "source": []
  }
 ],
 "metadata": {
  "kernelspec": {
   "display_name": "Python 3",
   "language": "python",
   "name": "python3"
  },
  "language_info": {
   "codemirror_mode": {
    "name": "ipython",
    "version": 3
   },
   "file_extension": ".py",
   "mimetype": "text/x-python",
   "name": "python",
   "nbconvert_exporter": "python",
   "pygments_lexer": "ipython3",
   "version": "3.7.4"
  }
 },
 "nbformat": 4,
 "nbformat_minor": 2
}
